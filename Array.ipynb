{
 "cells": [
  {
   "cell_type": "markdown",
   "id": "b4b6987a",
   "metadata": {},
   "source": [
    "\n",
    "# Method 1"
   ]
  },
  {
   "cell_type": "code",
   "execution_count": 3,
   "id": "69df6c09",
   "metadata": {},
   "outputs": [],
   "source": [
    "import array as arr"
   ]
  },
  {
   "cell_type": "code",
   "execution_count": 2,
   "id": "8d1a6f7e",
   "metadata": {},
   "outputs": [
    {
     "name": "stdout",
     "output_type": "stream",
     "text": [
      "<class 'array.array'>\n"
     ]
    }
   ],
   "source": [
    "a = arr.array('i' , [100,101,102,103,104,105])\n",
    "print(type(a))"
   ]
  },
  {
   "cell_type": "markdown",
   "id": "57cc1e7c",
   "metadata": {},
   "source": [
    "# Method 2"
   ]
  },
  {
   "cell_type": "code",
   "execution_count": 5,
   "id": "c16dbaf8",
   "metadata": {},
   "outputs": [
    {
     "name": "stdout",
     "output_type": "stream",
     "text": [
      "<class 'array.array'>\n"
     ]
    }
   ],
   "source": [
    "from array import*\n",
    "#in this method module name are not use\n",
    "b = array('i',[200,201,202,203,204,205])\n",
    "print(type(b))"
   ]
  },
  {
   "cell_type": "code",
   "execution_count": 12,
   "id": "d3e796df",
   "metadata": {},
   "outputs": [
    {
     "name": "stdout",
     "output_type": "stream",
     "text": [
      "100\n",
      "array('i', [100, 101])\n",
      "array('i', [100, 101, 102, 103, 104])\n",
      "109\n",
      "array('i', [109, 110])\n",
      "array('i', [106, 107, 108, 109])\n"
     ]
    }
   ],
   "source": [
    "c = array('i',[100,101,102,103,104,105,106,107,108,109,110])\n",
    "print(c[0])\n",
    "print(c[0:2])\n",
    "print(c[:5])\n",
    "print(c[-2])\n",
    "print(c[-2:])\n",
    "print(c[-5:-1])"
   ]
  },
  {
   "cell_type": "markdown",
   "id": "1b009f4a",
   "metadata": {},
   "source": [
    "# Using for loop"
   ]
  },
  {
   "cell_type": "code",
   "execution_count": 14,
   "id": "e863c885",
   "metadata": {},
   "outputs": [
    {
     "name": "stdout",
     "output_type": "stream",
     "text": [
      "100\n",
      "101\n",
      "102\n",
      "103\n",
      "104\n",
      "105\n",
      "106\n",
      "107\n",
      "108\n",
      "109\n",
      "110\n"
     ]
    }
   ],
   "source": [
    "d = array('i',[100,101,102,103,104,105,106,107,108,109,110])\n",
    "for i in d:\n",
    "    print(i)"
   ]
  },
  {
   "cell_type": "markdown",
   "id": "878b347b",
   "metadata": {},
   "source": [
    "# using index"
   ]
  },
  {
   "cell_type": "code",
   "execution_count": 31,
   "id": "b3f1cfe3",
   "metadata": {},
   "outputs": [
    {
     "name": "stdout",
     "output_type": "stream",
     "text": [
      "0 = 100\n",
      "1 = 101\n",
      "2 = 102\n",
      "3 = 103\n",
      "4 = 104\n",
      "5 = 105\n",
      "6 = 106\n",
      "7 = 107\n",
      "8 = 108\n",
      "9 = 109\n",
      "10 = 110\n"
     ]
    }
   ],
   "source": [
    "e = array('i',[100,101,102,103,104,105,106,107,108,109,110])\n",
    "n = (len(e))\n",
    "for i in range(n):\n",
    "    print(i,\"=\",e[i])\n"
   ]
  },
  {
   "cell_type": "markdown",
   "id": "414469b8",
   "metadata": {},
   "source": [
    "# Write a Python program to create an array of 5 integers and display the array items. Access individual elements through indexes"
   ]
  },
  {
   "cell_type": "code",
   "execution_count": 32,
   "id": "98c433f5",
   "metadata": {},
   "outputs": [],
   "source": [
    "from array import*\n"
   ]
  },
  {
   "cell_type": "code",
   "execution_count": 33,
   "id": "d3b0948f",
   "metadata": {},
   "outputs": [
    {
     "name": "stdout",
     "output_type": "stream",
     "text": [
      "array('i', [100, 101, 102, 103, 104, 105])\n"
     ]
    }
   ],
   "source": [
    "var = array('i',[100,101,102,103,104,105])\n",
    "print(var)"
   ]
  },
  {
   "cell_type": "code",
   "execution_count": 34,
   "id": "4b803a3a",
   "metadata": {},
   "outputs": [
    {
     "name": "stdout",
     "output_type": "stream",
     "text": [
      "100\n",
      "101\n",
      "102\n",
      "103\n",
      "104\n"
     ]
    }
   ],
   "source": [
    "print(var[0])\n",
    "print(var[1])\n",
    "print(var[2])\n",
    "print(var[3])\n",
    "print(var[4])"
   ]
  },
  {
   "cell_type": "markdown",
   "id": "142681dd",
   "metadata": {},
   "source": [
    "# Write a Python program to append a new item to the end of the array"
   ]
  },
  {
   "cell_type": "code",
   "execution_count": 36,
   "id": "88d4a2da",
   "metadata": {},
   "outputs": [
    {
     "name": "stdout",
     "output_type": "stream",
     "text": [
      "befor append arry array('i', [1, 2, 3, 4, 5])\n",
      "after append array array('i', [1, 2, 3, 4, 5, 9])\n"
     ]
    }
   ],
   "source": [
    "a = array('i',[1,2,3,4,5])\n",
    "print(\"befor append arry\",a)\n",
    "a.append(9)\n",
    "print(\"after append array\",a)"
   ]
  },
  {
   "cell_type": "markdown",
   "id": "b8fa6353",
   "metadata": {},
   "source": [
    "# Write a Python program to reverse the order of the items in the array"
   ]
  },
  {
   "cell_type": "code",
   "execution_count": 37,
   "id": "2c5f1c05",
   "metadata": {},
   "outputs": [
    {
     "name": "stdout",
     "output_type": "stream",
     "text": [
      "array('i', [5, 4, 3, 2, 1])\n"
     ]
    }
   ],
   "source": [
    "a = array('i',[1,2,3,4,5])\n",
    "a.reverse()\n",
    "print(a)"
   ]
  },
  {
   "cell_type": "markdown",
   "id": "21eaba87",
   "metadata": {},
   "source": [
    "# Write a Python program to append items to a specified list"
   ]
  },
  {
   "cell_type": "code",
   "execution_count": 40,
   "id": "35b46c93",
   "metadata": {},
   "outputs": [
    {
     "name": "stdout",
     "output_type": "stream",
     "text": [
      "array('i', [10, 20, 30, 40, 50])\n"
     ]
    }
   ],
   "source": [
    "list1 = [10,20,30,40,50]\n",
    "a = array('i',[])\n",
    "a.fromlist(list1)\n",
    "print(a)\n",
    "#append "
   ]
  },
  {
   "cell_type": "markdown",
   "id": "1c309a8f",
   "metadata": {},
   "source": [
    "# Write a Python program to insert a newly created item before the second element in an existing array\n"
   ]
  },
  {
   "cell_type": "code",
   "execution_count": 55,
   "id": "e9b91eeb",
   "metadata": {},
   "outputs": [
    {
     "name": "stdout",
     "output_type": "stream",
     "text": [
      "array('i', [10, 15, 20, 25, 30, 35, 40, 45, 50])\n"
     ]
    }
   ],
   "source": [
    "list2 = array(\"i\",[10,20,30,40,50])\n",
    "list2.insert(1,15)\n",
    "list2.insert(3,25)\n",
    "list2.insert(5,35)\n",
    "list2.insert(7,45)\n",
    "print(list2)\n",
    "\n"
   ]
  },
  {
   "cell_type": "markdown",
   "id": "f9cfb2b1",
   "metadata": {},
   "source": [
    "# Write a Python program to remove a specified item using the index of an array"
   ]
  },
  {
   "cell_type": "code",
   "execution_count": 57,
   "id": "6bc7dd1b",
   "metadata": {},
   "outputs": [
    {
     "ename": "TypeError",
     "evalue": "list.append() takes exactly one argument (2 given)",
     "output_type": "error",
     "traceback": [
      "\u001b[1;31m---------------------------------------------------------------------------\u001b[0m",
      "\u001b[1;31mTypeError\u001b[0m                                 Traceback (most recent call last)",
      "Input \u001b[1;32mIn [57]\u001b[0m, in \u001b[0;36m<cell line: 2>\u001b[1;34m()\u001b[0m\n\u001b[0;32m      1\u001b[0m list5 \u001b[38;5;241m=\u001b[39m [\u001b[38;5;241m1\u001b[39m,\u001b[38;5;241m2\u001b[39m,\u001b[38;5;241m3\u001b[39m,\u001b[38;5;241m4\u001b[39m,\u001b[38;5;241m5\u001b[39m]\n\u001b[1;32m----> 2\u001b[0m \u001b[43mlist5\u001b[49m\u001b[38;5;241;43m.\u001b[39;49m\u001b[43mappend\u001b[49m\u001b[43m(\u001b[49m\u001b[38;5;241;43m4\u001b[39;49m\u001b[43m,\u001b[49m\u001b[38;5;241;43m8\u001b[39;49m\u001b[43m)\u001b[49m\n\u001b[0;32m      3\u001b[0m \u001b[38;5;28mprint\u001b[39m(list5)\n",
      "\u001b[1;31mTypeError\u001b[0m: list.append() takes exactly one argument (2 given)"
     ]
    }
   ],
   "source": [
    "list5 = [1,2,3,4,5]\n",
    "list5.append(4)\n",
    "print(list5)"
   ]
  },
  {
   "cell_type": "code",
   "execution_count": 83,
   "id": "40696a7e",
   "metadata": {},
   "outputs": [
    {
     "name": "stdout",
     "output_type": "stream",
     "text": [
      "11\n",
      "22\n",
      "33\n",
      "44\n",
      "55\n",
      "[6, None, None, None, None, None, 7, 8, 9, 10]\n"
     ]
    }
   ],
   "source": [
    "l1 = [11,22,33,44,55]\n",
    "l2 = [6,7,8,9,10]\n",
    "for i in range(len(l1)):\n",
    "    l2.insert()\n",
    "print(l2)\n",
    "    #l2.insert(1, )\n",
    "#print(l2)\n",
    "    \n",
    "# l2.insert(1,1)\n",
    "# l2.insert(3,2)\n",
    "# l2.insert(5,3)\n",
    "# l2.insert(7,5)\n",
    "\n"
   ]
  },
  {
   "cell_type": "code",
   "execution_count": null,
   "id": "bcb91f33",
   "metadata": {},
   "outputs": [],
   "source": []
  }
 ],
 "metadata": {
  "kernelspec": {
   "display_name": "Python 3 (ipykernel)",
   "language": "python",
   "name": "python3"
  },
  "language_info": {
   "codemirror_mode": {
    "name": "ipython",
    "version": 3
   },
   "file_extension": ".py",
   "mimetype": "text/x-python",
   "name": "python",
   "nbconvert_exporter": "python",
   "pygments_lexer": "ipython3",
   "version": "3.10.9"
  }
 },
 "nbformat": 4,
 "nbformat_minor": 5
}
