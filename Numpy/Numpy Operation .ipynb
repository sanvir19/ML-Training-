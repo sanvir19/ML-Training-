{
 "cells": [
  {
   "cell_type": "code",
   "execution_count": 1,
   "id": "f4fbc2c9",
   "metadata": {},
   "outputs": [],
   "source": [
    "import numpy as np"
   ]
  },
  {
   "cell_type": "markdown",
   "id": "b7eeaeb6",
   "metadata": {},
   "source": [
    "# Astype"
   ]
  },
  {
   "cell_type": "code",
   "execution_count": 10,
   "id": "5ec71f97",
   "metadata": {},
   "outputs": [
    {
     "name": "stdout",
     "output_type": "stream",
     "text": [
      "[[ 1  2  3  4]\n",
      " [ 5  6  7  8]\n",
      " [ 9 10 11 12]\n",
      " [13 14 15 16]\n",
      " [17 18 19 20]]\n"
     ]
    },
    {
     "data": {
      "text/plain": [
       "array([[ 1,  2,  3,  4],\n",
       "       [ 5,  6,  7,  8],\n",
       "       [ 9, 10, 11, 12],\n",
       "       [13, 14, 15, 16],\n",
       "       [17, 18, 19, 20]])"
      ]
     },
     "execution_count": 10,
     "metadata": {},
     "output_type": "execute_result"
    }
   ],
   "source": [
    "Age = np.arange(1,21).reshape(5,4)\n",
    "print(Age)\n",
    "Age.astype(np.int32)"
   ]
  },
  {
   "cell_type": "markdown",
   "id": "442cd37c",
   "metadata": {},
   "source": [
    "# Array Function Operation \n",
    "\n",
    "#    1   Scalar\n",
    "\n",
    "#    2   Vector\n",
    "\n",
    "     "
   ]
  },
  {
   "cell_type": "code",
   "execution_count": 23,
   "id": "535f1ee4",
   "metadata": {},
   "outputs": [
    {
     "name": "stdout",
     "output_type": "stream",
     "text": [
      "arr1: [[ 1  2  3  4]\n",
      " [ 5  6  7  8]\n",
      " [ 9 10 11 12]\n",
      " [13 14 15 16]\n",
      " [17 18 19 20]]\n",
      "\n",
      "arr2: [[21 22 23 24]\n",
      " [25 26 27 28]\n",
      " [29 30 31 32]\n",
      " [33 34 35 36]\n",
      " [37 38 39 40]]\n"
     ]
    }
   ],
   "source": [
    "arr1 = np.arange(1,21).reshape(5,4)\n",
    "arr2 = np.arange(21,41).reshape(5,4)\n",
    "print(\"arr1:\",arr1)\n",
    "print()\n",
    "print(\"arr2:\",arr2)\n"
   ]
  },
  {
   "cell_type": "markdown",
   "id": "40e8b106",
   "metadata": {},
   "source": [
    "# 1  Scalar "
   ]
  },
  {
   "cell_type": "code",
   "execution_count": 24,
   "id": "df4593d1",
   "metadata": {},
   "outputs": [
    {
     "data": {
      "text/plain": [
       "array([[ 2,  4,  6,  8],\n",
       "       [10, 12, 14, 16],\n",
       "       [18, 20, 22, 24],\n",
       "       [26, 28, 30, 32],\n",
       "       [34, 36, 38, 40]])"
      ]
     },
     "execution_count": 24,
     "metadata": {},
     "output_type": "execute_result"
    }
   ],
   "source": [
    "# Arithmetic (* , + , - , / etc)\n",
    "arr1 * 2\n"
   ]
  },
  {
   "cell_type": "code",
   "execution_count": 27,
   "id": "fe2ec128",
   "metadata": {},
   "outputs": [
    {
     "data": {
      "text/plain": [
       "array([[24, 25, 26, 27],\n",
       "       [28, 29, 30, 31],\n",
       "       [32, 33, 34, 35],\n",
       "       [36, 37, 38, 39],\n",
       "       [40, 41, 42, 43]])"
      ]
     },
     "execution_count": 27,
     "metadata": {},
     "output_type": "execute_result"
    }
   ],
   "source": [
    "arr2 + 3"
   ]
  },
  {
   "cell_type": "code",
   "execution_count": 29,
   "id": "d845ad02",
   "metadata": {},
   "outputs": [
    {
     "data": {
      "text/plain": [
       "array([[ 0.5,  1. ,  1.5,  2. ],\n",
       "       [ 2.5,  3. ,  3.5,  4. ],\n",
       "       [ 4.5,  5. ,  5.5,  6. ],\n",
       "       [ 6.5,  7. ,  7.5,  8. ],\n",
       "       [ 8.5,  9. ,  9.5, 10. ]])"
      ]
     },
     "execution_count": 29,
     "metadata": {},
     "output_type": "execute_result"
    }
   ],
   "source": [
    "arr1 / 2"
   ]
  },
  {
   "cell_type": "code",
   "execution_count": 30,
   "id": "13d0a5c4",
   "metadata": {},
   "outputs": [
    {
     "data": {
      "text/plain": [
       "array([[19, 20, 21, 22],\n",
       "       [23, 24, 25, 26],\n",
       "       [27, 28, 29, 30],\n",
       "       [31, 32, 33, 34],\n",
       "       [35, 36, 37, 38]])"
      ]
     },
     "execution_count": 30,
     "metadata": {},
     "output_type": "execute_result"
    }
   ],
   "source": [
    "arr2 - 2"
   ]
  },
  {
   "cell_type": "code",
   "execution_count": 31,
   "id": "614b3cf5",
   "metadata": {},
   "outputs": [
    {
     "data": {
      "text/plain": [
       "array([[False, False, False, False],\n",
       "       [False, False, False, False],\n",
       "       [False, False, False, False],\n",
       "       [False, False, False, False],\n",
       "       [False, False,  True,  True]])"
      ]
     },
     "execution_count": 31,
     "metadata": {},
     "output_type": "execute_result"
    }
   ],
   "source": [
    "arr1 > 18"
   ]
  },
  {
   "cell_type": "code",
   "execution_count": 32,
   "id": "8e24aef7",
   "metadata": {},
   "outputs": [
    {
     "data": {
      "text/plain": [
       "array([[False, False, False, False],\n",
       "       [False, False, False, False],\n",
       "       [False, False,  True,  True],\n",
       "       [ True,  True,  True,  True],\n",
       "       [ True,  True,  True,  True]])"
      ]
     },
     "execution_count": 32,
     "metadata": {},
     "output_type": "execute_result"
    }
   ],
   "source": [
    "arr2 > 30"
   ]
  },
  {
   "cell_type": "code",
   "execution_count": 33,
   "id": "964f80b5",
   "metadata": {},
   "outputs": [
    {
     "data": {
      "text/plain": [
       "array([[False, False, False, False],\n",
       "       [ True, False, False, False],\n",
       "       [False, False, False, False],\n",
       "       [False, False, False, False],\n",
       "       [False, False, False, False]])"
      ]
     },
     "execution_count": 33,
     "metadata": {},
     "output_type": "execute_result"
    }
   ],
   "source": [
    "arr1 == 5"
   ]
  },
  {
   "cell_type": "markdown",
   "id": "fb7b62e4",
   "metadata": {},
   "source": [
    "# 2 Vector "
   ]
  },
  {
   "cell_type": "code",
   "execution_count": null,
   "id": "d34ed81a",
   "metadata": {},
   "outputs": [],
   "source": [
    "# Vector are use opration two numpy array"
   ]
  },
  {
   "cell_type": "code",
   "execution_count": 36,
   "id": "0e9a2a8a",
   "metadata": {},
   "outputs": [
    {
     "name": "stdout",
     "output_type": "stream",
     "text": [
      "[[ 21  44  69  96]\n",
      " [125 156 189 224]\n",
      " [261 300 341 384]\n",
      " [429 476 525 576]\n",
      " [629 684 741 800]]\n"
     ]
    }
   ],
   "source": [
    "arr3 = arr1 * arr2\n",
    "print(arr3)"
   ]
  },
  {
   "cell_type": "code",
   "execution_count": 46,
   "id": "7b85812e",
   "metadata": {},
   "outputs": [
    {
     "data": {
      "text/plain": [
       "array([[21.        , 11.        ,  7.66666667,  6.        ],\n",
       "       [ 5.        ,  4.33333333,  3.85714286,  3.5       ],\n",
       "       [ 3.22222222,  3.        ,  2.81818182,  2.66666667],\n",
       "       [ 2.53846154,  2.42857143,  2.33333333,  2.25      ],\n",
       "       [ 2.17647059,  2.11111111,  2.05263158,  2.        ]])"
      ]
     },
     "execution_count": 46,
     "metadata": {},
     "output_type": "execute_result"
    }
   ],
   "source": [
    "arr2 / arr1"
   ]
  },
  {
   "cell_type": "code",
   "execution_count": 38,
   "id": "fbf4cb1b",
   "metadata": {},
   "outputs": [
    {
     "data": {
      "text/plain": [
       "array([[ 44,  48,  52,  56],\n",
       "       [ 60,  64,  68,  72],\n",
       "       [ 76,  80,  84,  88],\n",
       "       [ 92,  96, 100, 104],\n",
       "       [108, 112, 116, 120]])"
      ]
     },
     "execution_count": 38,
     "metadata": {},
     "output_type": "execute_result"
    }
   ],
   "source": [
    "(arr1+arr2)*2,"
   ]
  },
  {
   "cell_type": "markdown",
   "id": "83ccc8d6",
   "metadata": {},
   "source": [
    "# Max / Min / Sum / prod"
   ]
  },
  {
   "cell_type": "code",
   "execution_count": 68,
   "id": "20356445",
   "metadata": {},
   "outputs": [
    {
     "data": {
      "text/plain": [
       "array([[49., 62., 88.],\n",
       "       [19., 88., 61.],\n",
       "       [10., 96., 38.]])"
      ]
     },
     "execution_count": 68,
     "metadata": {},
     "output_type": "execute_result"
    }
   ],
   "source": [
    "# MAX\n",
    "\n",
    "arr = np.random.random((3,3))\n",
    "arr = np.round(arr*100)\n",
    "arr"
   ]
  },
  {
   "cell_type": "code",
   "execution_count": 69,
   "id": "8c765326",
   "metadata": {},
   "outputs": [
    {
     "data": {
      "text/plain": [
       "96.0"
      ]
     },
     "execution_count": 69,
     "metadata": {},
     "output_type": "execute_result"
    }
   ],
   "source": [
    "np.max(arr)\n"
   ]
  },
  {
   "cell_type": "code",
   "execution_count": 75,
   "id": "bf3cea34",
   "metadata": {},
   "outputs": [
    {
     "name": "stdout",
     "output_type": "stream",
     "text": [
      "[49. 96. 88.] [88. 88. 96.]\n"
     ]
    }
   ],
   "source": [
    "# 0 mean col\n",
    "# 1 mean row\n",
    "\n",
    "col = np.max(arr,axis = 0) # 0 is col\n",
    "row = np.max(arr,axis = 1) # 1 is row\n",
    "print(col,row)\n"
   ]
  },
  {
   "cell_type": "code",
   "execution_count": 76,
   "id": "b8927883",
   "metadata": {},
   "outputs": [
    {
     "name": "stdout",
     "output_type": "stream",
     "text": [
      "[10. 62. 38.] [49. 19. 10.]\n"
     ]
    }
   ],
   "source": [
    "np.min(arr)\n",
    "col1 = np.min(arr,axis = 0)\n",
    "row1 = np.min(arr,axis = 1)\n",
    "print(col1,row1)"
   ]
  },
  {
   "cell_type": "code",
   "execution_count": 71,
   "id": "7f11d228",
   "metadata": {},
   "outputs": [
    {
     "data": {
      "text/plain": [
       "511.0"
      ]
     },
     "execution_count": 71,
     "metadata": {},
     "output_type": "execute_result"
    }
   ],
   "source": [
    "np.sum(arr)"
   ]
  },
  {
   "cell_type": "code",
   "execution_count": 77,
   "id": "fe9efc20",
   "metadata": {},
   "outputs": [
    {
     "name": "stdout",
     "output_type": "stream",
     "text": [
      "[ 78. 246. 187.] [199. 168. 144.]\n"
     ]
    }
   ],
   "source": [
    "col2 = np.sum(arr,axis = 0)\n",
    "row2 = np.sum(arr,axis = 1)\n",
    "print(col2,row2)"
   ]
  },
  {
   "cell_type": "code",
   "execution_count": 72,
   "id": "9fdb58b8",
   "metadata": {},
   "outputs": [
    {
     "data": {
      "text/plain": [
       "994698308567040.0"
      ]
     },
     "execution_count": 72,
     "metadata": {},
     "output_type": "execute_result"
    }
   ],
   "source": [
    "np.prod(arr)"
   ]
  },
  {
   "cell_type": "code",
   "execution_count": 79,
   "id": "285f6788",
   "metadata": {},
   "outputs": [
    {
     "name": "stdout",
     "output_type": "stream",
     "text": [
      "[  9310. 523776. 203984.] [267344. 101992.  36480.]\n"
     ]
    }
   ],
   "source": [
    "col3 = np.prod(arr,axis = 0)\n",
    "row3 = np.prod(arr,axis = 1)\n",
    "print(col3,row3)"
   ]
  },
  {
   "cell_type": "markdown",
   "id": "de0bbb11",
   "metadata": {},
   "source": [
    "# Mean / Median / Std / Var "
   ]
  },
  {
   "cell_type": "markdown",
   "id": "7cd35519",
   "metadata": {},
   "source": [
    "## mean\n",
    "np.mean(arr)\n"
   ]
  },
  {
   "cell_type": "code",
   "execution_count": 81,
   "id": "2659901c",
   "metadata": {},
   "outputs": [
    {
     "data": {
      "text/plain": [
       "array([26.        , 82.        , 62.33333333])"
      ]
     },
     "execution_count": 81,
     "metadata": {},
     "output_type": "execute_result"
    }
   ],
   "source": [
    "np.mean(arr,axis = 0)"
   ]
  },
  {
   "cell_type": "code",
   "execution_count": 82,
   "id": "a6216c9f",
   "metadata": {},
   "outputs": [
    {
     "data": {
      "text/plain": [
       "array([66.33333333, 56.        , 48.        ])"
      ]
     },
     "execution_count": 82,
     "metadata": {},
     "output_type": "execute_result"
    }
   ],
   "source": [
    "np.mean(arr,axis = 1)"
   ]
  },
  {
   "cell_type": "code",
   "execution_count": 83,
   "id": "6072f38e",
   "metadata": {},
   "outputs": [
    {
     "data": {
      "text/plain": [
       "61.0"
      ]
     },
     "execution_count": 83,
     "metadata": {},
     "output_type": "execute_result"
    }
   ],
   "source": [
    "# Median\n",
    "\n",
    "np.median(arr)"
   ]
  },
  {
   "cell_type": "code",
   "execution_count": 84,
   "id": "1acc57af",
   "metadata": {},
   "outputs": [
    {
     "data": {
      "text/plain": [
       "array([19., 88., 61.])"
      ]
     },
     "execution_count": 84,
     "metadata": {},
     "output_type": "execute_result"
    }
   ],
   "source": [
    "np.median(arr,axis = 0)"
   ]
  },
  {
   "cell_type": "code",
   "execution_count": 85,
   "id": "956e290c",
   "metadata": {},
   "outputs": [
    {
     "data": {
      "text/plain": [
       "array([62., 61., 38.])"
      ]
     },
     "execution_count": 85,
     "metadata": {},
     "output_type": "execute_result"
    }
   ],
   "source": [
    "np.median(arr,axis = 1)"
   ]
  },
  {
   "cell_type": "code",
   "execution_count": 86,
   "id": "14281810",
   "metadata": {},
   "outputs": [
    {
     "data": {
      "text/plain": [
       "28.98573510377428"
      ]
     },
     "execution_count": 86,
     "metadata": {},
     "output_type": "execute_result"
    }
   ],
   "source": [
    "# STD\n",
    "\n",
    "np.std(arr)"
   ]
  },
  {
   "cell_type": "code",
   "execution_count": 87,
   "id": "2f702b37",
   "metadata": {},
   "outputs": [
    {
     "data": {
      "text/plain": [
       "array([16.673332  , 14.5143607 , 20.43417617])"
      ]
     },
     "execution_count": 87,
     "metadata": {},
     "output_type": "execute_result"
    }
   ],
   "source": [
    "np.std(arr,axis = 0)"
   ]
  },
  {
   "cell_type": "code",
   "execution_count": 88,
   "id": "796e2003",
   "metadata": {},
   "outputs": [
    {
     "data": {
      "text/plain": [
       "array([16.21384868, 28.39013913, 35.81433605])"
      ]
     },
     "execution_count": 88,
     "metadata": {},
     "output_type": "execute_result"
    }
   ],
   "source": [
    "np.std(arr,axis = 1)"
   ]
  },
  {
   "cell_type": "code",
   "execution_count": 89,
   "id": "65a1c047",
   "metadata": {},
   "outputs": [
    {
     "data": {
      "text/plain": [
       "840.1728395061727"
      ]
     },
     "execution_count": 89,
     "metadata": {},
     "output_type": "execute_result"
    }
   ],
   "source": [
    "# var\n",
    "\n",
    "np.var(arr)"
   ]
  },
  {
   "cell_type": "code",
   "execution_count": 91,
   "id": "121e23cc",
   "metadata": {},
   "outputs": [
    {
     "data": {
      "text/plain": [
       "array([278.        , 210.66666667, 417.55555556])"
      ]
     },
     "execution_count": 91,
     "metadata": {},
     "output_type": "execute_result"
    }
   ],
   "source": [
    "np.var(arr,axis = 0)\n",
    "np.var(arr,axis = 1)"
   ]
  },
  {
   "cell_type": "code",
   "execution_count": 92,
   "id": "7f39a91f",
   "metadata": {},
   "outputs": [
    {
     "data": {
      "text/plain": [
       "array([ 262.88888889,  806.        , 1282.66666667])"
      ]
     },
     "execution_count": 92,
     "metadata": {},
     "output_type": "execute_result"
    }
   ],
   "source": [
    "np.var(arr,axis = 1)"
   ]
  },
  {
   "cell_type": "markdown",
   "id": "30e75840",
   "metadata": {},
   "source": [
    " # Trigonometric Function "
   ]
  },
  {
   "cell_type": "code",
   "execution_count": 93,
   "id": "2ede3982",
   "metadata": {},
   "outputs": [
    {
     "data": {
      "text/plain": [
       "array([[-0.95375265, -0.7391807 ,  0.0353983 ],\n",
       "       [ 0.14987721,  0.0353983 , -0.96611777],\n",
       "       [-0.54402111,  0.98358775,  0.29636858]])"
      ]
     },
     "execution_count": 93,
     "metadata": {},
     "output_type": "execute_result"
    }
   ],
   "source": [
    "np.sin(arr)"
   ]
  },
  {
   "cell_type": "code",
   "execution_count": 94,
   "id": "28268c32",
   "metadata": {},
   "outputs": [
    {
     "data": {
      "text/plain": [
       "array([[ 0.30059254,  0.67350716,  0.99937328],\n",
       "       [ 0.98870462,  0.99937328, -0.25810164],\n",
       "       [-0.83907153, -0.18043045,  0.95507364]])"
      ]
     },
     "execution_count": 94,
     "metadata": {},
     "output_type": "execute_result"
    }
   ],
   "source": [
    "np.cos(arr)"
   ]
  },
  {
   "cell_type": "markdown",
   "id": "b0e8ee6a",
   "metadata": {},
   "source": [
    "# dot Product"
   ]
  },
  {
   "cell_type": "code",
   "execution_count": 95,
   "id": "368c13c6",
   "metadata": {},
   "outputs": [],
   "source": [
    "# find dot product between two matrix \n",
    "# 1st matrix col and 2nd matrix row are same \n",
    "#(rule of dot product)\n"
   ]
  },
  {
   "cell_type": "code",
   "execution_count": 97,
   "id": "cea4552b",
   "metadata": {},
   "outputs": [
    {
     "name": "stdout",
     "output_type": "stream",
     "text": [
      "[[1 2 3]\n",
      " [4 5 6]]\n",
      "[[1 2]\n",
      " [3 4]\n",
      " [5 6]]\n"
     ]
    }
   ],
   "source": [
    "arr1 = np.arange(1,7).reshape(2,3)\n",
    "arr2 = np.arange(1,7).reshape(3,2)\n",
    "print(arr1)\n",
    "print(arr2)"
   ]
  },
  {
   "cell_type": "code",
   "execution_count": 98,
   "id": "823c4172",
   "metadata": {},
   "outputs": [
    {
     "data": {
      "text/plain": [
       "array([[22, 28],\n",
       "       [49, 64]])"
      ]
     },
     "execution_count": 98,
     "metadata": {},
     "output_type": "execute_result"
    }
   ],
   "source": [
    "np.dot(arr1,arr2)"
   ]
  },
  {
   "cell_type": "markdown",
   "id": "047b1056",
   "metadata": {},
   "source": [
    "# log and Exponents"
   ]
  },
  {
   "cell_type": "code",
   "execution_count": 99,
   "id": "91cef156",
   "metadata": {},
   "outputs": [
    {
     "data": {
      "text/plain": [
       "array([[3.8918203 , 4.12713439, 4.47733681],\n",
       "       [2.94443898, 4.47733681, 4.11087386],\n",
       "       [2.30258509, 4.56434819, 3.63758616]])"
      ]
     },
     "execution_count": 99,
     "metadata": {},
     "output_type": "execute_result"
    }
   ],
   "source": [
    "np.log(arr)"
   ]
  },
  {
   "cell_type": "code",
   "execution_count": 100,
   "id": "a53b8c2b",
   "metadata": {},
   "outputs": [
    {
     "data": {
      "text/plain": [
       "array([[1.90734657e+21, 8.43835667e+26, 1.65163625e+38],\n",
       "       [1.78482301e+08, 1.65163625e+38, 3.10429794e+26],\n",
       "       [2.20264658e+04, 4.92345829e+41, 3.18559318e+16]])"
      ]
     },
     "execution_count": 100,
     "metadata": {},
     "output_type": "execute_result"
    }
   ],
   "source": [
    "np.exp(arr)"
   ]
  },
  {
   "cell_type": "markdown",
   "id": "d5883633",
   "metadata": {},
   "source": []
  },
  {
   "cell_type": "code",
   "execution_count": null,
   "id": "0ed097e2",
   "metadata": {},
   "outputs": [],
   "source": []
  }
 ],
 "metadata": {
  "kernelspec": {
   "display_name": "Python 3 (ipykernel)",
   "language": "python",
   "name": "python3"
  },
  "language_info": {
   "codemirror_mode": {
    "name": "ipython",
    "version": 3
   },
   "file_extension": ".py",
   "mimetype": "text/x-python",
   "name": "python",
   "nbconvert_exporter": "python",
   "pygments_lexer": "ipython3",
   "version": "3.10.9"
  }
 },
 "nbformat": 4,
 "nbformat_minor": 5
}
