{
 "cells": [
  {
   "cell_type": "code",
   "execution_count": 1,
   "id": "fdc102ec",
   "metadata": {},
   "outputs": [],
   "source": [
    "import numpy as np"
   ]
  },
  {
   "cell_type": "markdown",
   "id": "fe6937b5",
   "metadata": {},
   "source": [
    "# Astype"
   ]
  },
  {
   "cell_type": "code",
   "execution_count": 10,
   "id": "5fd432fa",
   "metadata": {},
   "outputs": [
    {
     "name": "stdout",
     "output_type": "stream",
     "text": [
      "[[ 1  2  3  4]\n",
      " [ 5  6  7  8]\n",
      " [ 9 10 11 12]\n",
      " [13 14 15 16]\n",
      " [17 18 19 20]]\n"
     ]
    },
    {
     "data": {
      "text/plain": [
       "array([[ 1,  2,  3,  4],\n",
       "       [ 5,  6,  7,  8],\n",
       "       [ 9, 10, 11, 12],\n",
       "       [13, 14, 15, 16],\n",
       "       [17, 18, 19, 20]])"
      ]
     },
     "execution_count": 10,
     "metadata": {},
     "output_type": "execute_result"
    }
   ],
   "source": [
    "Age = np.arange(1,21).reshape(5,4)\n",
    "print(Age)\n",
    "Age.astype(np.int32)"
   ]
  },
  {
   "cell_type": "markdown",
   "id": "ff8a0771",
   "metadata": {},
   "source": [
    "# Array Operation \n",
    "\n",
    "#    1   Scalar\n",
    "\n",
    "#    2   Vector\n",
    "\n",
    "     "
   ]
  },
  {
   "cell_type": "code",
   "execution_count": 23,
   "id": "ff8cf9d7",
   "metadata": {},
   "outputs": [
    {
     "name": "stdout",
     "output_type": "stream",
     "text": [
      "arr1: [[ 1  2  3  4]\n",
      " [ 5  6  7  8]\n",
      " [ 9 10 11 12]\n",
      " [13 14 15 16]\n",
      " [17 18 19 20]]\n",
      "\n",
      "arr2: [[21 22 23 24]\n",
      " [25 26 27 28]\n",
      " [29 30 31 32]\n",
      " [33 34 35 36]\n",
      " [37 38 39 40]]\n"
     ]
    }
   ],
   "source": [
    "arr1 = np.arange(1,21).reshape(5,4)\n",
    "arr2 = np.arange(21,41).reshape(5,4)\n",
    "print(\"arr1:\",arr1)\n",
    "print()\n",
    "print(\"arr2:\",arr2)\n"
   ]
  },
  {
   "cell_type": "markdown",
   "id": "af497115",
   "metadata": {},
   "source": [
    "# 1  Scalar "
   ]
  },
  {
   "cell_type": "code",
   "execution_count": 24,
   "id": "70e349bb",
   "metadata": {},
   "outputs": [
    {
     "data": {
      "text/plain": [
       "array([[ 2,  4,  6,  8],\n",
       "       [10, 12, 14, 16],\n",
       "       [18, 20, 22, 24],\n",
       "       [26, 28, 30, 32],\n",
       "       [34, 36, 38, 40]])"
      ]
     },
     "execution_count": 24,
     "metadata": {},
     "output_type": "execute_result"
    }
   ],
   "source": [
    "# Arithmetic (* , + , - , / etc)\n",
    "arr1 * 2\n"
   ]
  },
  {
   "cell_type": "code",
   "execution_count": 27,
   "id": "48e0a782",
   "metadata": {},
   "outputs": [
    {
     "data": {
      "text/plain": [
       "array([[24, 25, 26, 27],\n",
       "       [28, 29, 30, 31],\n",
       "       [32, 33, 34, 35],\n",
       "       [36, 37, 38, 39],\n",
       "       [40, 41, 42, 43]])"
      ]
     },
     "execution_count": 27,
     "metadata": {},
     "output_type": "execute_result"
    }
   ],
   "source": [
    "arr2 + 3"
   ]
  },
  {
   "cell_type": "code",
   "execution_count": 29,
   "id": "4ed82b3a",
   "metadata": {},
   "outputs": [
    {
     "data": {
      "text/plain": [
       "array([[ 0.5,  1. ,  1.5,  2. ],\n",
       "       [ 2.5,  3. ,  3.5,  4. ],\n",
       "       [ 4.5,  5. ,  5.5,  6. ],\n",
       "       [ 6.5,  7. ,  7.5,  8. ],\n",
       "       [ 8.5,  9. ,  9.5, 10. ]])"
      ]
     },
     "execution_count": 29,
     "metadata": {},
     "output_type": "execute_result"
    }
   ],
   "source": [
    "arr1 / 2"
   ]
  },
  {
   "cell_type": "code",
   "execution_count": 30,
   "id": "2ad02037",
   "metadata": {},
   "outputs": [
    {
     "data": {
      "text/plain": [
       "array([[19, 20, 21, 22],\n",
       "       [23, 24, 25, 26],\n",
       "       [27, 28, 29, 30],\n",
       "       [31, 32, 33, 34],\n",
       "       [35, 36, 37, 38]])"
      ]
     },
     "execution_count": 30,
     "metadata": {},
     "output_type": "execute_result"
    }
   ],
   "source": [
    "arr2 - 2"
   ]
  },
  {
   "cell_type": "code",
   "execution_count": 31,
   "id": "4805352e",
   "metadata": {},
   "outputs": [
    {
     "data": {
      "text/plain": [
       "array([[False, False, False, False],\n",
       "       [False, False, False, False],\n",
       "       [False, False, False, False],\n",
       "       [False, False, False, False],\n",
       "       [False, False,  True,  True]])"
      ]
     },
     "execution_count": 31,
     "metadata": {},
     "output_type": "execute_result"
    }
   ],
   "source": [
    "arr1 > 18"
   ]
  },
  {
   "cell_type": "code",
   "execution_count": 32,
   "id": "61784bd1",
   "metadata": {},
   "outputs": [
    {
     "data": {
      "text/plain": [
       "array([[False, False, False, False],\n",
       "       [False, False, False, False],\n",
       "       [False, False,  True,  True],\n",
       "       [ True,  True,  True,  True],\n",
       "       [ True,  True,  True,  True]])"
      ]
     },
     "execution_count": 32,
     "metadata": {},
     "output_type": "execute_result"
    }
   ],
   "source": [
    "arr2 > 30"
   ]
  },
  {
   "cell_type": "code",
   "execution_count": 33,
   "id": "722ba39b",
   "metadata": {},
   "outputs": [
    {
     "data": {
      "text/plain": [
       "array([[False, False, False, False],\n",
       "       [ True, False, False, False],\n",
       "       [False, False, False, False],\n",
       "       [False, False, False, False],\n",
       "       [False, False, False, False]])"
      ]
     },
     "execution_count": 33,
     "metadata": {},
     "output_type": "execute_result"
    }
   ],
   "source": [
    "arr1 == 5"
   ]
  },
  {
   "cell_type": "markdown",
   "id": "02390f53",
   "metadata": {},
   "source": [
    "# 2 Vector "
   ]
  },
  {
   "cell_type": "code",
   "execution_count": null,
   "id": "28722f1f",
   "metadata": {},
   "outputs": [],
   "source": [
    "# Vector are use opration two numpy array"
   ]
  },
  {
   "cell_type": "code",
   "execution_count": 36,
   "id": "b38284ff",
   "metadata": {},
   "outputs": [
    {
     "name": "stdout",
     "output_type": "stream",
     "text": [
      "[[ 21  44  69  96]\n",
      " [125 156 189 224]\n",
      " [261 300 341 384]\n",
      " [429 476 525 576]\n",
      " [629 684 741 800]]\n"
     ]
    }
   ],
   "source": [
    "arr3 = arr1 * arr2\n",
    "print(arr3)"
   ]
  },
  {
   "cell_type": "code",
   "execution_count": 46,
   "id": "aef3fb92",
   "metadata": {},
   "outputs": [
    {
     "data": {
      "text/plain": [
       "array([[21.        , 11.        ,  7.66666667,  6.        ],\n",
       "       [ 5.        ,  4.33333333,  3.85714286,  3.5       ],\n",
       "       [ 3.22222222,  3.        ,  2.81818182,  2.66666667],\n",
       "       [ 2.53846154,  2.42857143,  2.33333333,  2.25      ],\n",
       "       [ 2.17647059,  2.11111111,  2.05263158,  2.        ]])"
      ]
     },
     "execution_count": 46,
     "metadata": {},
     "output_type": "execute_result"
    }
   ],
   "source": [
    "arr2 / arr1"
   ]
  },
  {
   "cell_type": "code",
   "execution_count": 38,
   "id": "cfa88b8d",
   "metadata": {},
   "outputs": [
    {
     "data": {
      "text/plain": [
       "array([[ 44,  48,  52,  56],\n",
       "       [ 60,  64,  68,  72],\n",
       "       [ 76,  80,  84,  88],\n",
       "       [ 92,  96, 100, 104],\n",
       "       [108, 112, 116, 120]])"
      ]
     },
     "execution_count": 38,
     "metadata": {},
     "output_type": "execute_result"
    }
   ],
   "source": [
    "(arr1+arr2)*2,"
   ]
  },
  {
   "cell_type": "markdown",
   "id": "b3a43f33",
   "metadata": {},
   "source": [
    "# Max / Min / Sum / prod"
   ]
  },
  {
   "cell_type": "code",
   "execution_count": 68,
   "id": "df02804c",
   "metadata": {},
   "outputs": [
    {
     "data": {
      "text/plain": [
       "array([[49., 62., 88.],\n",
       "       [19., 88., 61.],\n",
       "       [10., 96., 38.]])"
      ]
     },
     "execution_count": 68,
     "metadata": {},
     "output_type": "execute_result"
    }
   ],
   "source": [
    "# MAX\n",
    "\n",
    "arr = np.random.random((3,3))\n",
    "arr = np.round(arr*100)\n",
    "arr"
   ]
  },
  {
   "cell_type": "code",
   "execution_count": 69,
   "id": "48d506dc",
   "metadata": {},
   "outputs": [
    {
     "data": {
      "text/plain": [
       "96.0"
      ]
     },
     "execution_count": 69,
     "metadata": {},
     "output_type": "execute_result"
    }
   ],
   "source": [
    "np.max(arr)\n"
   ]
  },
  {
   "cell_type": "code",
   "execution_count": 75,
   "id": "438d3077",
   "metadata": {},
   "outputs": [
    {
     "name": "stdout",
     "output_type": "stream",
     "text": [
      "[49. 96. 88.] [88. 88. 96.]\n"
     ]
    }
   ],
   "source": [
    "# 0 mean col\n",
    "# 1 mean row\n",
    "\n",
    "col = np.max(arr,axis = 0) # 0 is col\n",
    "row = np.max(arr,axis = 1) # 1 is row\n",
    "print(col,row)\n"
   ]
  },
  {
   "cell_type": "code",
   "execution_count": 76,
   "id": "62a0bfb0",
   "metadata": {},
   "outputs": [
    {
     "name": "stdout",
     "output_type": "stream",
     "text": [
      "[10. 62. 38.] [49. 19. 10.]\n"
     ]
    }
   ],
   "source": [
    "np.min(arr)\n",
    "col1 = np.min(arr,axis = 0)\n",
    "row1 = np.min(arr,axis = 1)\n",
    "print(col1,row1)"
   ]
  },
  {
   "cell_type": "code",
   "execution_count": 71,
   "id": "9a56bdf9",
   "metadata": {},
   "outputs": [
    {
     "data": {
      "text/plain": [
       "511.0"
      ]
     },
     "execution_count": 71,
     "metadata": {},
     "output_type": "execute_result"
    }
   ],
   "source": [
    "np.sum(arr)"
   ]
  },
  {
   "cell_type": "code",
   "execution_count": 77,
   "id": "763e0ca1",
   "metadata": {},
   "outputs": [
    {
     "name": "stdout",
     "output_type": "stream",
     "text": [
      "[ 78. 246. 187.] [199. 168. 144.]\n"
     ]
    }
   ],
   "source": [
    "col2 = np.sum(arr,axis = 0)\n",
    "row2 = np.sum(arr,axis = 1)\n",
    "print(col2,row2)"
   ]
  },
  {
   "cell_type": "code",
   "execution_count": 72,
   "id": "a79e8e64",
   "metadata": {},
   "outputs": [
    {
     "data": {
      "text/plain": [
       "994698308567040.0"
      ]
     },
     "execution_count": 72,
     "metadata": {},
     "output_type": "execute_result"
    }
   ],
   "source": [
    "np.prod(arr)"
   ]
  },
  {
   "cell_type": "code",
   "execution_count": 79,
   "id": "03779e46",
   "metadata": {},
   "outputs": [
    {
     "name": "stdout",
     "output_type": "stream",
     "text": [
      "[  9310. 523776. 203984.] [267344. 101992.  36480.]\n"
     ]
    }
   ],
   "source": [
    "col3 = np.prod(arr,axis = 0)\n",
    "row3 = np.prod(arr,axis = 1)\n",
    "print(col3,row3)"
   ]
  },
  {
   "cell_type": "code",
   "execution_count": null,
   "id": "fa928e04",
   "metadata": {},
   "outputs": [],
   "source": []
  }
 ],
 "metadata": {
  "kernelspec": {
   "display_name": "Python 3 (ipykernel)",
   "language": "python",
   "name": "python3"
  },
  "language_info": {
   "codemirror_mode": {
    "name": "ipython",
    "version": 3
   },
   "file_extension": ".py",
   "mimetype": "text/x-python",
   "name": "python",
   "nbconvert_exporter": "python",
   "pygments_lexer": "ipython3",
   "version": "3.10.9"
  }
 },
 "nbformat": 4,
 "nbformat_minor": 5
}
