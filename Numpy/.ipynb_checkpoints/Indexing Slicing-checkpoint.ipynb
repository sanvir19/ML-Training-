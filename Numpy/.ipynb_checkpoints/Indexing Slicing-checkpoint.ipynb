{
 "cells": [
  {
   "cell_type": "code",
   "execution_count": 1,
   "id": "4bdcba9d",
   "metadata": {},
   "outputs": [],
   "source": [
    "import numpy as np"
   ]
  },
  {
   "cell_type": "code",
   "execution_count": 2,
   "id": "c9aa7931",
   "metadata": {},
   "outputs": [
    {
     "name": "stdout",
     "output_type": "stream",
     "text": [
      "[0 1 2 3 4 5 6 7 8 9]\n",
      "\n",
      "[[ 0  1  2  3]\n",
      " [ 4  5  6  7]\n",
      " [ 8  9 10 11]]\n",
      "\n",
      "[[[0 1]\n",
      "  [2 3]]\n",
      "\n",
      " [[4 5]\n",
      "  [6 7]]]\n"
     ]
    }
   ],
   "source": [
    "a1 = np.arange(10)\n",
    "a2 = np.arange(12).reshape(3,4)\n",
    "a3 = np.arange(8).reshape(2,2,2)\n",
    "print(a1)\n",
    "print()\n",
    "print(a2)\n",
    "print()\n",
    "print(a3)"
   ]
  },
  {
   "cell_type": "code",
   "execution_count": 3,
   "id": "c0ada894",
   "metadata": {},
   "outputs": [
    {
     "data": {
      "text/plain": [
       "6"
      ]
     },
     "execution_count": 3,
     "metadata": {},
     "output_type": "execute_result"
    }
   ],
   "source": [
    "a2[1,2]"
   ]
  },
  {
   "cell_type": "code",
   "execution_count": 4,
   "id": "ce73b347",
   "metadata": {},
   "outputs": [
    {
     "data": {
      "text/plain": [
       "11"
      ]
     },
     "execution_count": 4,
     "metadata": {},
     "output_type": "execute_result"
    }
   ],
   "source": [
    "a2[2,3]"
   ]
  },
  {
   "cell_type": "code",
   "execution_count": 5,
   "id": "47ef057f",
   "metadata": {},
   "outputs": [
    {
     "data": {
      "text/plain": [
       "4"
      ]
     },
     "execution_count": 5,
     "metadata": {},
     "output_type": "execute_result"
    }
   ],
   "source": [
    "a2[1,0]"
   ]
  },
  {
   "cell_type": "markdown",
   "id": "b3a1cac8",
   "metadata": {},
   "source": [
    "# 3 - D  "
   ]
  },
  {
   "cell_type": "code",
   "execution_count": 6,
   "id": "e14823d0",
   "metadata": {},
   "outputs": [
    {
     "data": {
      "text/plain": [
       "5"
      ]
     },
     "execution_count": 6,
     "metadata": {},
     "output_type": "execute_result"
    }
   ],
   "source": [
    "a3[1,0,1] \n",
    "# first position is array\n",
    "# secound position is Row\n",
    "# third position is col"
   ]
  },
  {
   "cell_type": "code",
   "execution_count": 7,
   "id": "980914b0",
   "metadata": {},
   "outputs": [
    {
     "data": {
      "text/plain": [
       "2"
      ]
     },
     "execution_count": 7,
     "metadata": {},
     "output_type": "execute_result"
    }
   ],
   "source": [
    "a3[0,1,0]"
   ]
  },
  {
   "cell_type": "code",
   "execution_count": 8,
   "id": "9838f55e",
   "metadata": {},
   "outputs": [
    {
     "data": {
      "text/plain": [
       "0"
      ]
     },
     "execution_count": 8,
     "metadata": {},
     "output_type": "execute_result"
    }
   ],
   "source": [
    "a3[0,0,0]"
   ]
  },
  {
   "cell_type": "code",
   "execution_count": 9,
   "id": "545e2db5",
   "metadata": {},
   "outputs": [
    {
     "data": {
      "text/plain": [
       "6"
      ]
     },
     "execution_count": 9,
     "metadata": {},
     "output_type": "execute_result"
    }
   ],
   "source": [
    "a3[1,1,0]"
   ]
  },
  {
   "cell_type": "markdown",
   "id": "cc295581",
   "metadata": {},
   "source": [
    "# slicing"
   ]
  },
  {
   "cell_type": "code",
   "execution_count": 10,
   "id": "abcc0f3e",
   "metadata": {},
   "outputs": [
    {
     "data": {
      "text/plain": [
       "array([2, 3, 4])"
      ]
     },
     "execution_count": 10,
     "metadata": {},
     "output_type": "execute_result"
    }
   ],
   "source": [
    "a1[2:5]\n",
    "# first position is start point\n",
    "# secound position is end point"
   ]
  },
  {
   "cell_type": "code",
   "execution_count": 11,
   "id": "755fb57d",
   "metadata": {},
   "outputs": [
    {
     "data": {
      "text/plain": [
       "array([2, 4])"
      ]
     },
     "execution_count": 11,
     "metadata": {},
     "output_type": "execute_result"
    }
   ],
   "source": [
    "a1[2:5:2]\n",
    "# "
   ]
  },
  {
   "cell_type": "code",
   "execution_count": 12,
   "id": "27e34dfa",
   "metadata": {},
   "outputs": [
    {
     "data": {
      "text/plain": [
       "array([[ 0,  1,  2,  3],\n",
       "       [ 4,  5,  6,  7],\n",
       "       [ 8,  9, 10, 11]])"
      ]
     },
     "execution_count": 12,
     "metadata": {},
     "output_type": "execute_result"
    }
   ],
   "source": [
    "a2"
   ]
  },
  {
   "cell_type": "code",
   "execution_count": 13,
   "id": "4e9da015",
   "metadata": {},
   "outputs": [
    {
     "data": {
      "text/plain": [
       "array([0, 1, 2, 3])"
      ]
     },
     "execution_count": 13,
     "metadata": {},
     "output_type": "execute_result"
    }
   ],
   "source": [
    "a2[0,:]\n",
    "# First position is Row"
   ]
  },
  {
   "cell_type": "code",
   "execution_count": 14,
   "id": "587e6c3a",
   "metadata": {},
   "outputs": [
    {
     "data": {
      "text/plain": [
       "array([ 2,  6, 10])"
      ]
     },
     "execution_count": 14,
     "metadata": {},
     "output_type": "execute_result"
    }
   ],
   "source": [
    "a2[:,2]\n",
    "#secound position is col"
   ]
  },
  {
   "cell_type": "code",
   "execution_count": 15,
   "id": "9402d432",
   "metadata": {},
   "outputs": [
    {
     "data": {
      "text/plain": [
       "array([[ 5,  6],\n",
       "       [ 9, 10]])"
      ]
     },
     "execution_count": 15,
     "metadata": {},
     "output_type": "execute_result"
    }
   ],
   "source": [
    "a2[1:,1:3]"
   ]
  },
  {
   "cell_type": "code",
   "execution_count": 16,
   "id": "ce24d3b6",
   "metadata": {},
   "outputs": [
    {
     "data": {
      "text/plain": [
       "array([[ 0,  3],\n",
       "       [ 8, 11]])"
      ]
     },
     "execution_count": 16,
     "metadata": {},
     "output_type": "execute_result"
    }
   ],
   "source": [
    "a2[::2,::3]"
   ]
  },
  {
   "cell_type": "code",
   "execution_count": 17,
   "id": "55402c77",
   "metadata": {},
   "outputs": [
    {
     "data": {
      "text/plain": [
       "array([[ 1,  3],\n",
       "       [ 9, 11]])"
      ]
     },
     "execution_count": 17,
     "metadata": {},
     "output_type": "execute_result"
    }
   ],
   "source": [
    "a2[0:3:2,1:4:2]"
   ]
  },
  {
   "cell_type": "code",
   "execution_count": 18,
   "id": "66e1309a",
   "metadata": {},
   "outputs": [
    {
     "data": {
      "text/plain": [
       "array([[4, 7]])"
      ]
     },
     "execution_count": 18,
     "metadata": {},
     "output_type": "execute_result"
    }
   ],
   "source": [
    "a2[1::2,::3]"
   ]
  },
  {
   "cell_type": "code",
   "execution_count": 19,
   "id": "df1eeb52",
   "metadata": {},
   "outputs": [
    {
     "data": {
      "text/plain": [
       "array([[1, 2, 3],\n",
       "       [5, 6, 7]])"
      ]
     },
     "execution_count": 19,
     "metadata": {},
     "output_type": "execute_result"
    }
   ],
   "source": [
    "a2[0:2,1:4]"
   ]
  },
  {
   "cell_type": "code",
   "execution_count": 20,
   "id": "f58f5407",
   "metadata": {},
   "outputs": [],
   "source": [
    "# 3D Array"
   ]
  },
  {
   "cell_type": "code",
   "execution_count": 21,
   "id": "72978e14",
   "metadata": {},
   "outputs": [
    {
     "data": {
      "text/plain": [
       "array([[[ 0,  1,  2],\n",
       "        [ 3,  4,  5],\n",
       "        [ 6,  7,  8]],\n",
       "\n",
       "       [[ 9, 10, 11],\n",
       "        [12, 13, 14],\n",
       "        [15, 16, 17]],\n",
       "\n",
       "       [[18, 19, 20],\n",
       "        [21, 22, 23],\n",
       "        [24, 25, 26]]])"
      ]
     },
     "execution_count": 21,
     "metadata": {},
     "output_type": "execute_result"
    }
   ],
   "source": [
    "a3 = np.arange(27).reshape(3,3,3)\n",
    "a3"
   ]
  },
  {
   "cell_type": "code",
   "execution_count": 22,
   "id": "8dee4df1",
   "metadata": {},
   "outputs": [
    {
     "data": {
      "text/plain": [
       "array([[ 9, 10, 11],\n",
       "       [12, 13, 14],\n",
       "       [15, 16, 17]])"
      ]
     },
     "execution_count": 22,
     "metadata": {},
     "output_type": "execute_result"
    }
   ],
   "source": [
    "a3[1]"
   ]
  },
  {
   "cell_type": "code",
   "execution_count": 23,
   "id": "ede13126",
   "metadata": {},
   "outputs": [
    {
     "data": {
      "text/plain": [
       "array([[[ 0,  1,  2],\n",
       "        [ 3,  4,  5],\n",
       "        [ 6,  7,  8]],\n",
       "\n",
       "       [[18, 19, 20],\n",
       "        [21, 22, 23],\n",
       "        [24, 25, 26]]])"
      ]
     },
     "execution_count": 23,
     "metadata": {},
     "output_type": "execute_result"
    }
   ],
   "source": [
    "a3[0:3:2]"
   ]
  },
  {
   "cell_type": "code",
   "execution_count": 24,
   "id": "dafc5d6f",
   "metadata": {},
   "outputs": [
    {
     "data": {
      "text/plain": [
       "array([3, 4, 5])"
      ]
     },
     "execution_count": 24,
     "metadata": {},
     "output_type": "execute_result"
    }
   ],
   "source": [
    "a3[0,1]"
   ]
  },
  {
   "cell_type": "code",
   "execution_count": 25,
   "id": "1c047d62",
   "metadata": {},
   "outputs": [
    {
     "data": {
      "text/plain": [
       "array([10, 13, 16])"
      ]
     },
     "execution_count": 25,
     "metadata": {},
     "output_type": "execute_result"
    }
   ],
   "source": [
    "a3[1,:,1]"
   ]
  },
  {
   "cell_type": "code",
   "execution_count": 26,
   "id": "ad071daf",
   "metadata": {},
   "outputs": [
    {
     "data": {
      "text/plain": [
       "array([[22, 23],\n",
       "       [25, 26]])"
      ]
     },
     "execution_count": 26,
     "metadata": {},
     "output_type": "execute_result"
    }
   ],
   "source": [
    "a3[2,1:,1:]"
   ]
  },
  {
   "cell_type": "code",
   "execution_count": 27,
   "id": "a9c011ee",
   "metadata": {},
   "outputs": [
    {
     "data": {
      "text/plain": [
       "array([[ 0,  2],\n",
       "       [18, 20]])"
      ]
     },
     "execution_count": 27,
     "metadata": {},
     "output_type": "execute_result"
    }
   ],
   "source": [
    "a3[0::2,0,0::2]"
   ]
  },
  {
   "cell_type": "markdown",
   "id": "8efec758",
   "metadata": {},
   "source": [
    "# Advance Indexing"
   ]
  },
  {
   "cell_type": "code",
   "execution_count": 28,
   "id": "9ec05ff6",
   "metadata": {},
   "outputs": [
    {
     "data": {
      "text/plain": [
       "array([[19, 30,  9, 17],\n",
       "       [57, 55, 22, 27],\n",
       "       [49, 53, 43, 22],\n",
       "       [97, 38, 34, 95],\n",
       "       [78, 77, 76, 46],\n",
       "       [83,  2, 41, 24]])"
      ]
     },
     "execution_count": 28,
     "metadata": {},
     "output_type": "execute_result"
    }
   ],
   "source": [
    "arr = np.random.randint(1,100,24).reshape(6,4)\n",
    "arr\n"
   ]
  },
  {
   "cell_type": "code",
   "execution_count": 29,
   "id": "a8381a36",
   "metadata": {},
   "outputs": [
    {
     "data": {
      "text/plain": [
       "array([[57, 55, 22, 27],\n",
       "       [49, 53, 43, 22],\n",
       "       [78, 77, 76, 46],\n",
       "       [83,  2, 41, 24]])"
      ]
     },
     "execution_count": 29,
     "metadata": {},
     "output_type": "execute_result"
    }
   ],
   "source": [
    "arr[[1,2,4,5]]"
   ]
  },
  {
   "cell_type": "code",
   "execution_count": 31,
   "id": "b9a924e2",
   "metadata": {},
   "outputs": [
    {
     "data": {
      "text/plain": [
       "array([[19, 30, 17],\n",
       "       [57, 55, 27],\n",
       "       [49, 53, 22],\n",
       "       [97, 38, 95],\n",
       "       [78, 77, 46],\n",
       "       [83,  2, 24]])"
      ]
     },
     "execution_count": 31,
     "metadata": {},
     "output_type": "execute_result"
    }
   ],
   "source": [
    "arr[:,[0,1,3]]"
   ]
  },
  {
   "cell_type": "markdown",
   "id": "6eeaaf47",
   "metadata": {},
   "source": [
    " # bool Indexing"
   ]
  },
  {
   "cell_type": "code",
   "execution_count": 32,
   "id": "be2403a1",
   "metadata": {},
   "outputs": [
    {
     "data": {
      "text/plain": [
       "array([57, 55, 53, 97, 95, 78, 77, 76, 83])"
      ]
     },
     "execution_count": 32,
     "metadata": {},
     "output_type": "execute_result"
    }
   ],
   "source": [
    "arr[arr > 50]"
   ]
  },
  {
   "cell_type": "code",
   "execution_count": 33,
   "id": "c3a37c1f",
   "metadata": {},
   "outputs": [
    {
     "data": {
      "text/plain": [
       "array([30, 22, 22, 38, 34, 78, 76, 46,  2, 24])"
      ]
     },
     "execution_count": 33,
     "metadata": {},
     "output_type": "execute_result"
    }
   ],
   "source": [
    "arr[arr%2==0]"
   ]
  },
  {
   "cell_type": "code",
   "execution_count": 35,
   "id": "0d5dd4c2",
   "metadata": {},
   "outputs": [
    {
     "data": {
      "text/plain": [
       "array([19, 30,  9, 17, 57, 55, 22, 27, 53, 43, 22, 97, 38, 34, 95, 78, 76,\n",
       "       46, 83,  2, 41, 24])"
      ]
     },
     "execution_count": 35,
     "metadata": {},
     "output_type": "execute_result"
    }
   ],
   "source": [
    "arr[~(arr%7==0)]"
   ]
  },
  {
   "cell_type": "code",
   "execution_count": 40,
   "id": "4469ae1d",
   "metadata": {},
   "outputs": [
    {
     "data": {
      "text/plain": [
       "array([78, 76])"
      ]
     },
     "execution_count": 40,
     "metadata": {},
     "output_type": "execute_result"
    }
   ],
   "source": [
    "arr[(arr>50)&(arr%2==0)]"
   ]
  },
  {
   "cell_type": "code",
   "execution_count": 37,
   "id": "b24510b2",
   "metadata": {},
   "outputs": [
    {
     "data": {
      "text/plain": [
       "array([[False, False, False, False],\n",
       "       [False, False, False, False],\n",
       "       [False, False, False, False],\n",
       "       [ True, False, False,  True],\n",
       "       [False, False, False, False],\n",
       "       [False, False, False, False]])"
      ]
     },
     "execution_count": 37,
     "metadata": {},
     "output_type": "execute_result"
    }
   ],
   "source": [
    "arr>90"
   ]
  },
  {
   "cell_type": "code",
   "execution_count": 38,
   "id": "08102731",
   "metadata": {},
   "outputs": [
    {
     "data": {
      "text/plain": [
       "array([97, 95])"
      ]
     },
     "execution_count": 38,
     "metadata": {},
     "output_type": "execute_result"
    }
   ],
   "source": [
    "arr[arr>90]"
   ]
  },
  {
   "cell_type": "code",
   "execution_count": null,
   "id": "2bcd0aa0",
   "metadata": {},
   "outputs": [],
   "source": []
  }
 ],
 "metadata": {
  "kernelspec": {
   "display_name": "Python 3 (ipykernel)",
   "language": "python",
   "name": "python3"
  },
  "language_info": {
   "codemirror_mode": {
    "name": "ipython",
    "version": 3
   },
   "file_extension": ".py",
   "mimetype": "text/x-python",
   "name": "python",
   "nbconvert_exporter": "python",
   "pygments_lexer": "ipython3",
   "version": "3.10.9"
  }
 },
 "nbformat": 4,
 "nbformat_minor": 5
}
