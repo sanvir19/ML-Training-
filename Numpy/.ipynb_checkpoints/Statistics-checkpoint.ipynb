{
 "cells": [
  {
   "cell_type": "code",
   "execution_count": 1,
   "id": "ce7f0fca",
   "metadata": {},
   "outputs": [],
   "source": [
    "import numpy as np"
   ]
  },
  {
   "cell_type": "markdown",
   "id": "1b123eee",
   "metadata": {},
   "source": [
    "# CUMSUM , CUMPROD"
   ]
  },
  {
   "cell_type": "code",
   "execution_count": 2,
   "id": "b7ff95a5",
   "metadata": {},
   "outputs": [
    {
     "data": {
      "text/plain": [
       "array([ 10,  30,  60, 100, 150])"
      ]
     },
     "execution_count": 2,
     "metadata": {},
     "output_type": "execute_result"
    }
   ],
   "source": [
    "cum = np.array([10,20,30,40,50])\n",
    "np.cumsum(cum)"
   ]
  },
  {
   "cell_type": "code",
   "execution_count": 3,
   "id": "fc6d16ef",
   "metadata": {},
   "outputs": [
    {
     "data": {
      "text/plain": [
       "array([      10,      200,     6000,   240000, 12000000])"
      ]
     },
     "execution_count": 3,
     "metadata": {},
     "output_type": "execute_result"
    }
   ],
   "source": [
    "np.cumprod(cum)"
   ]
  },
  {
   "cell_type": "code",
   "execution_count": 4,
   "id": "2c95f39b",
   "metadata": {},
   "outputs": [
    {
     "data": {
      "text/plain": [
       "array([[0, 1, 2],\n",
       "       [3, 4, 5],\n",
       "       [6, 7, 8]])"
      ]
     },
     "execution_count": 4,
     "metadata": {},
     "output_type": "execute_result"
    }
   ],
   "source": [
    "# 2-D \n",
    "\n",
    "cum2 = np.arange(9).reshape(3,3)\n",
    "cum2"
   ]
  },
  {
   "cell_type": "code",
   "execution_count": 5,
   "id": "79c70782",
   "metadata": {},
   "outputs": [
    {
     "data": {
      "text/plain": [
       "array([ 0,  1,  3,  6, 10, 15, 21, 28, 36])"
      ]
     },
     "execution_count": 5,
     "metadata": {},
     "output_type": "execute_result"
    }
   ],
   "source": [
    "np.cumsum(cum2)"
   ]
  },
  {
   "cell_type": "code",
   "execution_count": 6,
   "id": "ec479c0e",
   "metadata": {},
   "outputs": [
    {
     "data": {
      "text/plain": [
       "array([0, 0, 0, 0, 0, 0, 0, 0, 0])"
      ]
     },
     "execution_count": 6,
     "metadata": {},
     "output_type": "execute_result"
    }
   ],
   "source": [
    "np.cumprod(cum2)"
   ]
  },
  {
   "cell_type": "markdown",
   "id": "9d0318e4",
   "metadata": {},
   "source": [
    "# Percentiles "
   ]
  },
  {
   "cell_type": "code",
   "execution_count": 11,
   "id": "82e1dff8",
   "metadata": {},
   "outputs": [
    {
     "data": {
      "text/plain": [
       "array([ 0,  1,  2,  3,  4,  5,  6,  7,  8,  9, 10, 11, 12, 13, 14, 15, 16,\n",
       "       17, 18, 19])"
      ]
     },
     "execution_count": 11,
     "metadata": {},
     "output_type": "execute_result"
    }
   ],
   "source": [
    "per = np.arange(20)\n",
    "per\n"
   ]
  },
  {
   "cell_type": "code",
   "execution_count": 12,
   "id": "25815406",
   "metadata": {},
   "outputs": [
    {
     "data": {
      "text/plain": [
       "9.5"
      ]
     },
     "execution_count": 12,
     "metadata": {},
     "output_type": "execute_result"
    }
   ],
   "source": [
    "np.percentile(per,50)"
   ]
  },
  {
   "cell_type": "code",
   "execution_count": 13,
   "id": "6bf2477c",
   "metadata": {},
   "outputs": [
    {
     "data": {
      "text/plain": [
       "14.25"
      ]
     },
     "execution_count": 13,
     "metadata": {},
     "output_type": "execute_result"
    }
   ],
   "source": [
    "np.percentile(per,75)"
   ]
  },
  {
   "cell_type": "code",
   "execution_count": 14,
   "id": "25b87021",
   "metadata": {},
   "outputs": [
    {
     "data": {
      "text/plain": [
       "15.200000000000001"
      ]
     },
     "execution_count": 14,
     "metadata": {},
     "output_type": "execute_result"
    }
   ],
   "source": [
    "np.percentile(per,80)"
   ]
  },
  {
   "cell_type": "markdown",
   "id": "a561467f",
   "metadata": {},
   "source": [
    "# Histograms "
   ]
  },
  {
   "cell_type": "code",
   "execution_count": 15,
   "id": "d7c04bc9",
   "metadata": {},
   "outputs": [
    {
     "data": {
      "text/plain": [
       "array([ 0,  1,  2,  3,  4,  5,  6,  7,  8,  9, 10, 11, 12, 13, 14, 15, 16,\n",
       "       17, 18, 19])"
      ]
     },
     "execution_count": 15,
     "metadata": {},
     "output_type": "execute_result"
    }
   ],
   "source": [
    "his = np.arange(20)\n",
    "his"
   ]
  },
  {
   "cell_type": "code",
   "execution_count": 16,
   "id": "c03b1cb3",
   "metadata": {},
   "outputs": [
    {
     "data": {
      "text/plain": [
       "(array([10, 10,  0,  0,  0], dtype=int64), array([ 0, 10, 20, 30, 40, 50]))"
      ]
     },
     "execution_count": 16,
     "metadata": {},
     "output_type": "execute_result"
    }
   ],
   "source": [
    "np.histogram(his,[0,10,20,30,40,50])"
   ]
  },
  {
   "cell_type": "markdown",
   "id": "86685282",
   "metadata": {},
   "source": [
    "# correlation coefficient"
   ]
  },
  {
   "cell_type": "code",
   "execution_count": 18,
   "id": "a382710c",
   "metadata": {},
   "outputs": [
    {
     "data": {
      "text/plain": [
       "array([[1.        , 0.99983784],\n",
       "       [0.99983784, 1.        ]])"
      ]
     },
     "execution_count": 18,
     "metadata": {},
     "output_type": "execute_result"
    }
   ],
   "source": [
    "cr = np.array([1,2,3,4,5,6,7,8,9,10])\n",
    "co = np.array([11,15,20,25,30,35,40,45,50,55])\n",
    "np.corrcoef(cr,co)"
   ]
  },
  {
   "cell_type": "code",
   "execution_count": null,
   "id": "d35897e6",
   "metadata": {},
   "outputs": [],
   "source": []
  }
 ],
 "metadata": {
  "kernelspec": {
   "display_name": "Python 3 (ipykernel)",
   "language": "python",
   "name": "python3"
  },
  "language_info": {
   "codemirror_mode": {
    "name": "ipython",
    "version": 3
   },
   "file_extension": ".py",
   "mimetype": "text/x-python",
   "name": "python",
   "nbconvert_exporter": "python",
   "pygments_lexer": "ipython3",
   "version": "3.10.9"
  }
 },
 "nbformat": 4,
 "nbformat_minor": 5
}
