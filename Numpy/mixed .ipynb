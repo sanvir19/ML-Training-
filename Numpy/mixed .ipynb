{
 "cells": [
  {
   "cell_type": "markdown",
   "id": "509e0447",
   "metadata": {},
   "source": [
    "# SORT"
   ]
  },
  {
   "cell_type": "code",
   "execution_count": 21,
   "id": "e5d31682",
   "metadata": {},
   "outputs": [],
   "source": [
    "import numpy as np"
   ]
  },
  {
   "cell_type": "code",
   "execution_count": 2,
   "id": "92f19d41",
   "metadata": {},
   "outputs": [
    {
     "data": {
      "text/plain": [
       "array([[63, 79, 19,  2],\n",
       "       [ 9, 49,  7, 45],\n",
       "       [ 5, 88, 18, 22],\n",
       "       [52, 88, 38, 42],\n",
       "       [ 9, 54, 74,  9],\n",
       "       [15, 90, 95, 65]])"
      ]
     },
     "execution_count": 2,
     "metadata": {},
     "output_type": "execute_result"
    }
   ],
   "source": [
    "a = np.random.randint(1,100,24).reshape(6,4)\n",
    "a"
   ]
  },
  {
   "cell_type": "code",
   "execution_count": 3,
   "id": "b1133d04",
   "metadata": {},
   "outputs": [
    {
     "data": {
      "text/plain": [
       "array([[ 5, 49,  7,  2],\n",
       "       [ 9, 54, 18,  9],\n",
       "       [ 9, 79, 19, 22],\n",
       "       [15, 88, 38, 42],\n",
       "       [52, 88, 74, 45],\n",
       "       [63, 90, 95, 65]])"
      ]
     },
     "execution_count": 3,
     "metadata": {},
     "output_type": "execute_result"
    }
   ],
   "source": [
    "np.sort(a,axis = 0)"
   ]
  },
  {
   "cell_type": "code",
   "execution_count": 4,
   "id": "bccf1a9e",
   "metadata": {},
   "outputs": [
    {
     "data": {
      "text/plain": [
       "array([[ 2, 19, 63, 79],\n",
       "       [ 7,  9, 45, 49],\n",
       "       [ 5, 18, 22, 88],\n",
       "       [38, 42, 52, 88],\n",
       "       [ 9,  9, 54, 74],\n",
       "       [15, 65, 90, 95]])"
      ]
     },
     "execution_count": 4,
     "metadata": {},
     "output_type": "execute_result"
    }
   ],
   "source": [
    "np.sort(a,axis = 1)"
   ]
  },
  {
   "cell_type": "code",
   "execution_count": 5,
   "id": "0a68e652",
   "metadata": {},
   "outputs": [
    {
     "data": {
      "text/plain": [
       "array([[63, 90, 95, 65],\n",
       "       [52, 88, 74, 45],\n",
       "       [15, 88, 38, 42],\n",
       "       [ 9, 79, 19, 22],\n",
       "       [ 9, 54, 18,  9],\n",
       "       [ 5, 49,  7,  2]])"
      ]
     },
     "execution_count": 5,
     "metadata": {},
     "output_type": "execute_result"
    }
   ],
   "source": [
    "np.sort(a,axis = 0)[::-1]"
   ]
  },
  {
   "cell_type": "markdown",
   "id": "4baea901",
   "metadata": {},
   "source": [
    "# Append"
   ]
  },
  {
   "cell_type": "code",
   "execution_count": 6,
   "id": "91f73764",
   "metadata": {},
   "outputs": [],
   "source": [
    "# for 1 D\n",
    "l = np.arange(9).reshape(9)"
   ]
  },
  {
   "cell_type": "code",
   "execution_count": 7,
   "id": "406d3847",
   "metadata": {},
   "outputs": [
    {
     "data": {
      "text/plain": [
       "array([0, 1, 2, 3, 4, 5, 6, 7, 8])"
      ]
     },
     "execution_count": 7,
     "metadata": {},
     "output_type": "execute_result"
    }
   ],
   "source": [
    "l"
   ]
  },
  {
   "cell_type": "code",
   "execution_count": 8,
   "id": "a28f9902",
   "metadata": {},
   "outputs": [
    {
     "data": {
      "text/plain": [
       "array([0, 1, 2, 3, 4, 5, 6, 7, 8, 9])"
      ]
     },
     "execution_count": 8,
     "metadata": {},
     "output_type": "execute_result"
    }
   ],
   "source": [
    "np.append(l,9)"
   ]
  },
  {
   "cell_type": "code",
   "execution_count": 18,
   "id": "26db4582",
   "metadata": {},
   "outputs": [
    {
     "name": "stdout",
     "output_type": "stream",
     "text": [
      "[[0 1 2]\n",
      " [3 4 5]\n",
      " [6 7 8]]\n"
     ]
    },
    {
     "data": {
      "text/plain": [
       "array([[0., 1., 2., 1.],\n",
       "       [3., 4., 5., 1.],\n",
       "       [6., 7., 8., 1.]])"
      ]
     },
     "execution_count": 18,
     "metadata": {},
     "output_type": "execute_result"
    }
   ],
   "source": [
    "# for 2-D\n",
    "arr = np.arange(9).reshape(3,3)\n",
    "print(arr)\n",
    "np.append(arr,np.ones((arr.shape[0],1)),axis =1) "
   ]
  },
  {
   "cell_type": "markdown",
   "id": "d6279bf3",
   "metadata": {},
   "source": [
    "# Unique "
   ]
  },
  {
   "cell_type": "code",
   "execution_count": 24,
   "id": "21074d32",
   "metadata": {},
   "outputs": [
    {
     "data": {
      "text/plain": [
       "array([1, 2, 3, 4, 5, 6])"
      ]
     },
     "execution_count": 24,
     "metadata": {},
     "output_type": "execute_result"
    }
   ],
   "source": [
    "\n",
    "e = np.array([1,2,3,1,4,5,2,6])\n",
    "np.unique(e)\n"
   ]
  },
  {
   "cell_type": "markdown",
   "id": "09c21890",
   "metadata": {},
   "source": [
    "# EXPAND_DIMS"
   ]
  },
  {
   "cell_type": "code",
   "execution_count": 34,
   "id": "287992b7",
   "metadata": {},
   "outputs": [
    {
     "name": "stdout",
     "output_type": "stream",
     "text": [
      "ROW [[1 2 3 4 6]]\n",
      "COL [[1]\n",
      " [2]\n",
      " [3]\n",
      " [4]\n",
      " [6]]\n"
     ]
    }
   ],
   "source": [
    "# it is use for converting 1-D to 2-D or 2-D to 3-D\n",
    "\n",
    "ex = np.array([1,2,3,4,6])\n",
    "ex1 = np.expand_dims(ex,axis = 0)\n",
    "np.ndim(ex1)\n",
    "print(\"ROW\",ex1)\n",
    "ex2 = np.expand_dims(ex,axis = 1)\n",
    "np.ndim(ex2)\n",
    "print(\"COL\",ex2)"
   ]
  },
  {
   "cell_type": "markdown",
   "id": "7cf77496",
   "metadata": {},
   "source": [
    "# Where "
   ]
  },
  {
   "cell_type": "code",
   "execution_count": 46,
   "id": "9080fd94",
   "metadata": {},
   "outputs": [
    {
     "name": "stdout",
     "output_type": "stream",
     "text": [
      "[[ 1  2  3  4]\n",
      " [ 5  6  7  8]\n",
      " [ 9 10 11 12]\n",
      " [13 14 15 16]\n",
      " [17 18 19 20]]\n"
     ]
    },
    {
     "data": {
      "text/plain": [
       "array([[0, 0, 0, 0],\n",
       "       [0, 0, 0, 0],\n",
       "       [0, 0, 1, 1],\n",
       "       [1, 1, 1, 1],\n",
       "       [1, 1, 1, 1]])"
      ]
     },
     "execution_count": 46,
     "metadata": {},
     "output_type": "execute_result"
    }
   ],
   "source": [
    "war = np.arange(1,21).reshape(5,4)\n",
    "print(war)\n",
    "np.where(war>10,1,0)\n"
   ]
  },
  {
   "cell_type": "code",
   "execution_count": 47,
   "id": "b9c1ed26",
   "metadata": {},
   "outputs": [
    {
     "data": {
      "text/plain": [
       "array([4, 4, 4, 4], dtype=int64)"
      ]
     },
     "execution_count": 47,
     "metadata": {},
     "output_type": "execute_result"
    }
   ],
   "source": [
    "np.argmax(war,axis = 0)"
   ]
  },
  {
   "cell_type": "code",
   "execution_count": 48,
   "id": "f5ac7004",
   "metadata": {},
   "outputs": [
    {
     "data": {
      "text/plain": [
       "array([3, 3, 3, 3, 3], dtype=int64)"
      ]
     },
     "execution_count": 48,
     "metadata": {},
     "output_type": "execute_result"
    }
   ],
   "source": [
    "np.argmax(war,axis = 1)"
   ]
  },
  {
   "cell_type": "markdown",
   "id": "94826d21",
   "metadata": {},
   "source": [
    "# ISIN"
   ]
  },
  {
   "cell_type": "code",
   "execution_count": 62,
   "id": "a7942a96",
   "metadata": {},
   "outputs": [
    {
     "name": "stdout",
     "output_type": "stream",
     "text": [
      "[False False False False False  True  True  True  True]\n"
     ]
    },
    {
     "data": {
      "text/plain": [
       "array([0, 0, 0, 0, 0, 1, 1, 1, 1])"
      ]
     },
     "execution_count": 62,
     "metadata": {},
     "output_type": "execute_result"
    }
   ],
   "source": [
    "sn = np.array([1,2,3,4,5,6,7,9,10])\n",
    "sn1 = np.array([6,7,8,9,10,11,12,13])\n",
    "print(np.isin(sn,sn1))\n",
    "x = np.isin(sn,sn1)\n",
    "np.where(x,1,0)"
   ]
  },
  {
   "cell_type": "code",
   "execution_count": 52,
   "id": "4fa7f0b0",
   "metadata": {},
   "outputs": [
    {
     "data": {
      "text/plain": [
       "array([ 6,  7,  9, 10])"
      ]
     },
     "execution_count": 52,
     "metadata": {},
     "output_type": "execute_result"
    }
   ],
   "source": [
    "sn = np.array([1,2,3,4,5,6,7,9,10])\n",
    "sn1 = np.array([6,7,8,9,10,11,12,13])\n",
    "sn1[np.isin(sn1,sn)]"
   ]
  },
  {
   "cell_type": "markdown",
   "id": "59f424f4",
   "metadata": {},
   "source": [
    "# PUT"
   ]
  },
  {
   "cell_type": "code",
   "execution_count": 64,
   "id": "50616611",
   "metadata": {},
   "outputs": [
    {
     "data": {
      "text/plain": [
       "array([10, 20, 30, 40])"
      ]
     },
     "execution_count": 64,
     "metadata": {},
     "output_type": "execute_result"
    }
   ],
   "source": [
    "put = np.array([10,20,30,50])\n",
    "np.put(put,[3],[40])\n",
    "put"
   ]
  },
  {
   "cell_type": "code",
   "execution_count": 68,
   "id": "0abb8a33",
   "metadata": {},
   "outputs": [
    {
     "name": "stdout",
     "output_type": "stream",
     "text": [
      "[[34  9 45 29]\n",
      " [11  8 27 14]\n",
      " [32 32 31 43]\n",
      " [ 2 33 39 34]\n",
      " [23 17 22 31]]\n",
      "None\n"
     ]
    }
   ],
   "source": [
    "put1 = np.random.randint(1,50,20).reshape(5,4)\n",
    "print(put1)\n",
    "x =np.put(put1,[1],[10])\n",
    "print(x)"
   ]
  },
  {
   "cell_type": "markdown",
   "id": "bdecbbe1",
   "metadata": {},
   "source": [
    "# Delete "
   ]
  },
  {
   "cell_type": "code",
   "execution_count": 69,
   "id": "7862c5d4",
   "metadata": {},
   "outputs": [
    {
     "data": {
      "text/plain": [
       "array([[42, 23, 40, 36],\n",
       "       [29,  6, 24, 39],\n",
       "       [30,  5, 27,  1],\n",
       "       [39, 17, 21, 41],\n",
       "       [19,  7, 29,  5]])"
      ]
     },
     "execution_count": 69,
     "metadata": {},
     "output_type": "execute_result"
    }
   ],
   "source": [
    "dl = np.random.randint(1,50,20).reshape(5,4)\n",
    "dl"
   ]
  },
  {
   "cell_type": "code",
   "execution_count": 70,
   "id": "ac0ff4c1",
   "metadata": {},
   "outputs": [
    {
     "data": {
      "text/plain": [
       "array([23, 40, 29, 24, 39, 30,  5, 27,  1, 39, 17, 21, 41, 19,  7, 29,  5])"
      ]
     },
     "execution_count": 70,
     "metadata": {},
     "output_type": "execute_result"
    }
   ],
   "source": [
    "np.delete(dl,[0,5,3])"
   ]
  },
  {
   "cell_type": "code",
   "execution_count": null,
   "id": "22393c91",
   "metadata": {},
   "outputs": [],
   "source": []
  }
 ],
 "metadata": {
  "kernelspec": {
   "display_name": "Python 3 (ipykernel)",
   "language": "python",
   "name": "python3"
  },
  "language_info": {
   "codemirror_mode": {
    "name": "ipython",
    "version": 3
   },
   "file_extension": ".py",
   "mimetype": "text/x-python",
   "name": "python",
   "nbconvert_exporter": "python",
   "pygments_lexer": "ipython3",
   "version": "3.10.9"
  }
 },
 "nbformat": 4,
 "nbformat_minor": 5
}
