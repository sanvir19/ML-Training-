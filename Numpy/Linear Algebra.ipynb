{
 "cells": [
  {
   "cell_type": "code",
   "execution_count": 1,
   "id": "12df65e1",
   "metadata": {},
   "outputs": [],
   "source": [
    "import numpy as np"
   ]
  },
  {
   "cell_type": "code",
   "execution_count": 3,
   "id": "36871afd",
   "metadata": {},
   "outputs": [
    {
     "name": "stdout",
     "output_type": "stream",
     "text": [
      "[[0 1 2]\n",
      " [3 4 5]\n",
      " [6 7 8]]\n",
      "[[10 11 12]\n",
      " [13 14 15]\n",
      " [16 17 18]]\n"
     ]
    }
   ],
   "source": [
    "a = np.arange(9).reshape(3,3)\n",
    "b = np.arange(10,19).reshape(3,3)\n",
    "print(a)\n",
    "print(b)"
   ]
  },
  {
   "cell_type": "markdown",
   "id": "95f8f0be",
   "metadata": {},
   "source": [
    "# DOT"
   ]
  },
  {
   "cell_type": "code",
   "execution_count": 4,
   "id": "c2039534",
   "metadata": {},
   "outputs": [
    {
     "data": {
      "text/plain": [
       "array([[ 45,  48,  51],\n",
       "       [162, 174, 186],\n",
       "       [279, 300, 321]])"
      ]
     },
     "execution_count": 4,
     "metadata": {},
     "output_type": "execute_result"
    }
   ],
   "source": [
    "np.dot(a,b)"
   ]
  },
  {
   "cell_type": "markdown",
   "id": "f9996cb8",
   "metadata": {},
   "source": [
    "# VDOT"
   ]
  },
  {
   "cell_type": "code",
   "execution_count": 5,
   "id": "eefe79d8",
   "metadata": {},
   "outputs": [
    {
     "data": {
      "text/plain": [
       "564"
      ]
     },
     "execution_count": 5,
     "metadata": {},
     "output_type": "execute_result"
    }
   ],
   "source": [
    "np.vdot(a,b)"
   ]
  },
  {
   "cell_type": "markdown",
   "id": "8300c99a",
   "metadata": {},
   "source": [
    "# INNER"
   ]
  },
  {
   "cell_type": "code",
   "execution_count": 8,
   "id": "9e2674b9",
   "metadata": {},
   "outputs": [
    {
     "name": "stdout",
     "output_type": "stream",
     "text": [
      "[0 1 2 3 4]\n",
      "[0 1 2 3 4]\n"
     ]
    },
    {
     "data": {
      "text/plain": [
       "30"
      ]
     },
     "execution_count": 8,
     "metadata": {},
     "output_type": "execute_result"
    }
   ],
   "source": [
    "a1 = np.arange(5)\n",
    "print(a1)\n",
    "a2 = np.arange(5)\n",
    "print(a2)\n",
    "np.inner(a1,a2)\n"
   ]
  },
  {
   "cell_type": "code",
   "execution_count": 9,
   "id": "e8783f5f",
   "metadata": {},
   "outputs": [
    {
     "data": {
      "text/plain": [
       "array([[ 45,  48,  51],\n",
       "       [162, 174, 186],\n",
       "       [279, 300, 321]])"
      ]
     },
     "execution_count": 9,
     "metadata": {},
     "output_type": "execute_result"
    }
   ],
   "source": [
    "np.matmul(a,b)"
   ]
  },
  {
   "cell_type": "markdown",
   "id": "a02ca308",
   "metadata": {},
   "source": [
    "# numpy determinant\n",
    "The determinant of the matrix can be calculated using the diagonal elements. The determinant of following 2 X 2 matrix\n",
    "\n",
    "A       B\n",
    "C       D\n",
    "\n",
    "can be calculated as AD - BC.\n",
    "\n",
    "The numpy.linalg.det() function is used to calculate the determinant of the matrix. Consider the following example."
   ]
  },
  {
   "cell_type": "code",
   "execution_count": 15,
   "id": "a68b2425",
   "metadata": {},
   "outputs": [
    {
     "name": "stdout",
     "output_type": "stream",
     "text": [
      "[[0 1]\n",
      " [2 3]]\n",
      "determinant: -2.0\n"
     ]
    }
   ],
   "source": [
    "d = np.arange(4).reshape(2,2)\n",
    "print(d)\n",
    "\n",
    "print(\"determinant:\",np.linalg.det(d))"
   ]
  },
  {
   "cell_type": "code",
   "execution_count": null,
   "id": "05242b3a",
   "metadata": {},
   "outputs": [],
   "source": []
  }
 ],
 "metadata": {
  "kernelspec": {
   "display_name": "Python 3 (ipykernel)",
   "language": "python",
   "name": "python3"
  },
  "language_info": {
   "codemirror_mode": {
    "name": "ipython",
    "version": 3
   },
   "file_extension": ".py",
   "mimetype": "text/x-python",
   "name": "python",
   "nbconvert_exporter": "python",
   "pygments_lexer": "ipython3",
   "version": "3.10.9"
  }
 },
 "nbformat": 4,
 "nbformat_minor": 5
}
