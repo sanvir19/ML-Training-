{
 "cells": [
  {
   "cell_type": "code",
   "execution_count": 1,
   "id": "c5cba9b6",
   "metadata": {},
   "outputs": [],
   "source": [
    "import numpy as np"
   ]
  },
  {
   "cell_type": "code",
   "execution_count": 4,
   "id": "29f66fc2",
   "metadata": {},
   "outputs": [
    {
     "name": "stdout",
     "output_type": "stream",
     "text": [
      "[[ 1  2  3  4]\n",
      " [ 5  6  7  8]\n",
      " [ 9 10 11 12]\n",
      " [13 14 15 16]\n",
      " [17 18 19 20]\n",
      " [21 22 23 24]]\n"
     ]
    }
   ],
   "source": [
    "arr = np.arange(1,25).reshape(6,4)\n",
    "print(arr)"
   ]
  },
  {
   "cell_type": "code",
   "execution_count": 5,
   "id": "5253e97e",
   "metadata": {},
   "outputs": [
    {
     "data": {
      "text/plain": [
       "array([[0.73105858, 0.88079708, 0.95257413, 0.98201379],\n",
       "       [0.99330715, 0.99752738, 0.99908895, 0.99966465],\n",
       "       [0.99987661, 0.9999546 , 0.9999833 , 0.99999386],\n",
       "       [0.99999774, 0.99999917, 0.99999969, 0.99999989],\n",
       "       [0.99999996, 0.99999998, 0.99999999, 1.        ],\n",
       "       [1.        , 1.        , 1.        , 1.        ]])"
      ]
     },
     "execution_count": 5,
     "metadata": {},
     "output_type": "execute_result"
    }
   ],
   "source": [
    "def sigmoid(arr):\n",
    "    return 1/(1  + np.exp(-arr))\n",
    "sigmoid(arr)"
   ]
  },
  {
   "cell_type": "code",
   "execution_count": null,
   "id": "7bc9b439",
   "metadata": {},
   "outputs": [],
   "source": []
  }
 ],
 "metadata": {
  "kernelspec": {
   "display_name": "Python 3 (ipykernel)",
   "language": "python",
   "name": "python3"
  },
  "language_info": {
   "codemirror_mode": {
    "name": "ipython",
    "version": 3
   },
   "file_extension": ".py",
   "mimetype": "text/x-python",
   "name": "python",
   "nbconvert_exporter": "python",
   "pygments_lexer": "ipython3",
   "version": "3.10.9"
  }
 },
 "nbformat": 4,
 "nbformat_minor": 5
}
