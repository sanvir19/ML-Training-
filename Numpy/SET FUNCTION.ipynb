{
 "cells": [
  {
   "cell_type": "code",
   "execution_count": 1,
   "id": "c014756c",
   "metadata": {},
   "outputs": [],
   "source": [
    "import numpy as np"
   ]
  },
  {
   "cell_type": "code",
   "execution_count": 5,
   "id": "a8e8e21d",
   "metadata": {},
   "outputs": [
    {
     "name": "stdout",
     "output_type": "stream",
     "text": [
      "[[ 2 63 80 50 73]\n",
      " [20  7 30 28 35]\n",
      " [26 43 11 32  7]\n",
      " [80 95 98 47 87]\n",
      " [33 78 10 74 30]]\n",
      "\n",
      "[[72 86 15 89 72]\n",
      " [13 13 11  5 34]\n",
      " [39 40 88 48  4]\n",
      " [55 27 83 33 38]\n",
      " [56 61 18 15 81]]\n"
     ]
    }
   ],
   "source": [
    "a = np.random.randint(1,100,25).reshape(5,5)\n",
    "b = np.random.randint(1,100,25).reshape(5,5)\n",
    "print(a)\n",
    "print()\n",
    "print(b)"
   ]
  },
  {
   "cell_type": "code",
   "execution_count": 6,
   "id": "641543e4",
   "metadata": {},
   "outputs": [
    {
     "data": {
      "text/plain": [
       "array([ 2,  4,  5,  7, 10, 11, 13, 15, 18, 20, 26, 27, 28, 30, 32, 33, 34,\n",
       "       35, 38, 39, 40, 43, 47, 48, 50, 55, 56, 61, 63, 72, 73, 74, 78, 80,\n",
       "       81, 83, 86, 87, 88, 89, 95, 98])"
      ]
     },
     "execution_count": 6,
     "metadata": {},
     "output_type": "execute_result"
    }
   ],
   "source": [
    "np.union1d(a,b)"
   ]
  },
  {
   "cell_type": "code",
   "execution_count": 7,
   "id": "0ece9a4b",
   "metadata": {},
   "outputs": [
    {
     "data": {
      "text/plain": [
       "array([11, 33])"
      ]
     },
     "execution_count": 7,
     "metadata": {},
     "output_type": "execute_result"
    }
   ],
   "source": [
    "np.intersect1d(a,b)"
   ]
  },
  {
   "cell_type": "code",
   "execution_count": 8,
   "id": "0b4600c5",
   "metadata": {},
   "outputs": [
    {
     "data": {
      "text/plain": [
       "array([ 2,  7, 10, 20, 26, 28, 30, 32, 35, 43, 47, 50, 63, 73, 74, 78, 80,\n",
       "       87, 95, 98])"
      ]
     },
     "execution_count": 8,
     "metadata": {},
     "output_type": "execute_result"
    }
   ],
   "source": [
    "np.setdiff1d(a,b)"
   ]
  },
  {
   "cell_type": "code",
   "execution_count": 12,
   "id": "96c15819",
   "metadata": {},
   "outputs": [
    {
     "data": {
      "text/plain": [
       "array([ 2,  4,  5,  7, 10, 13, 15, 18, 20, 26, 27, 28, 30, 32, 34, 35, 38,\n",
       "       39, 40, 43, 47, 48, 50, 55, 56, 61, 63, 72, 73, 74, 78, 80, 81, 83,\n",
       "       86, 87, 88, 89, 95, 98])"
      ]
     },
     "execution_count": 12,
     "metadata": {},
     "output_type": "execute_result"
    }
   ],
   "source": [
    "np.setxor1d(a,b)"
   ]
  },
  {
   "cell_type": "code",
   "execution_count": 20,
   "id": "11c5ce98",
   "metadata": {},
   "outputs": [
    {
     "data": {
      "text/plain": [
       "array([False, False, False, False, False, False, False, False, False,\n",
       "       False, False, False, False, False, False, False, False, False,\n",
       "       False, False, False, False, False, False, False])"
      ]
     },
     "execution_count": 20,
     "metadata": {},
     "output_type": "execute_result"
    }
   ],
   "source": [
    "np.in1d(a,0)"
   ]
  },
  {
   "cell_type": "markdown",
   "id": "41d47c40",
   "metadata": {},
   "source": [
    "# CLIP"
   ]
  },
  {
   "cell_type": "code",
   "execution_count": 21,
   "id": "0bdf7cba",
   "metadata": {},
   "outputs": [
    {
     "data": {
      "text/plain": [
       "array([[25, 63, 75, 50, 73],\n",
       "       [25, 25, 30, 28, 35],\n",
       "       [26, 43, 25, 32, 25],\n",
       "       [75, 75, 75, 47, 75],\n",
       "       [33, 75, 25, 74, 30]])"
      ]
     },
     "execution_count": 21,
     "metadata": {},
     "output_type": "execute_result"
    }
   ],
   "source": [
    "np.clip(a,a_min = 25 , a_max = 75)"
   ]
  },
  {
   "cell_type": "code",
   "execution_count": null,
   "id": "e7ca3ca3",
   "metadata": {},
   "outputs": [],
   "source": []
  }
 ],
 "metadata": {
  "kernelspec": {
   "display_name": "Python 3 (ipykernel)",
   "language": "python",
   "name": "python3"
  },
  "language_info": {
   "codemirror_mode": {
    "name": "ipython",
    "version": 3
   },
   "file_extension": ".py",
   "mimetype": "text/x-python",
   "name": "python",
   "nbconvert_exporter": "python",
   "pygments_lexer": "ipython3",
   "version": "3.10.9"
  }
 },
 "nbformat": 4,
 "nbformat_minor": 5
}
