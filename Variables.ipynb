{
 "cells": [
  {
   "cell_type": "markdown",
   "id": "7b558188",
   "metadata": {},
   "source": [
    "# Creating Variables "
   ]
  },
  {
   "cell_type": "code",
   "execution_count": 2,
   "id": "be7fa402",
   "metadata": {},
   "outputs": [
    {
     "name": "stdout",
     "output_type": "stream",
     "text": [
      "first\n",
      "2\n",
      "<class 'str'>\n",
      "<class 'int'>\n"
     ]
    }
   ],
   "source": [
    "var = \"first\"\n",
    "var1 = 2\n",
    "print(var)\n",
    "print(var1)\n",
    "print(type(var))\n",
    "print(type(var1))\n"
   ]
  },
  {
   "cell_type": "code",
   "execution_count": 3,
   "id": "085b0347",
   "metadata": {},
   "outputs": [
    {
     "name": "stdout",
     "output_type": "stream",
     "text": [
      "10\n",
      "20\n",
      "30\n"
     ]
    }
   ],
   "source": [
    "a,b,c = 10,20,30\n",
    "print(a)\n",
    "print(b)\n",
    "print(c)"
   ]
  },
  {
   "cell_type": "code",
   "execution_count": 46,
   "id": "a7cfbdc3",
   "metadata": {},
   "outputs": [
    {
     "name": "stdout",
     "output_type": "stream",
     "text": [
      "name\n",
      "name\n",
      "name\n",
      "9\n",
      "name\n",
      "name\n"
     ]
    }
   ],
   "source": [
    "e=f=g = \"name\"\n",
    "print(e)\n",
    "print(f)\n",
    "print(g)\n",
    "e = 9\n",
    "print(e)\n",
    "print(f)\n",
    "print(g)\n"
   ]
  },
  {
   "cell_type": "markdown",
   "id": "b3c6c02a",
   "metadata": {},
   "source": [
    "# list"
   ]
  },
  {
   "cell_type": "code",
   "execution_count": 6,
   "id": "2195fb7f",
   "metadata": {},
   "outputs": [
    {
     "name": "stdout",
     "output_type": "stream",
     "text": [
      "['apple', 'banana', 'cherry', 'apple', 'cherry']\n"
     ]
    }
   ],
   "source": [
    "list1 = [\"apple\", \"banana\", \"cherry\", \"apple\", \"cherry\"]\n",
    "print(list1)"
   ]
  },
  {
   "cell_type": "markdown",
   "id": "7a50b5fa",
   "metadata": {},
   "source": [
    "# len function"
   ]
  },
  {
   "cell_type": "code",
   "execution_count": 9,
   "id": "c87c57b5",
   "metadata": {},
   "outputs": [
    {
     "name": "stdout",
     "output_type": "stream",
     "text": [
      "5\n"
     ]
    }
   ],
   "source": [
    "print(len(list1))"
   ]
  },
  {
   "cell_type": "markdown",
   "id": "2a038b64",
   "metadata": {},
   "source": [
    "# convert"
   ]
  },
  {
   "cell_type": "code",
   "execution_count": 12,
   "id": "187d4125",
   "metadata": {},
   "outputs": [
    {
     "name": "stdout",
     "output_type": "stream",
     "text": [
      "['apple', 'banana', 'cherry', 'apple', 'cherry']\n"
     ]
    }
   ],
   "source": [
    "list2=list((\"apple\", \"banana\", \"cherry\", \"apple\", \"cherry\"))\n",
    "print(list2)"
   ]
  },
  {
   "cell_type": "markdown",
   "id": "8c755a3a",
   "metadata": {},
   "source": [
    "# Access Items "
   ]
  },
  {
   "cell_type": "code",
   "execution_count": 16,
   "id": "3c8f9200",
   "metadata": {},
   "outputs": [
    {
     "name": "stdout",
     "output_type": "stream",
     "text": [
      "['apple', 'banana', 'cherry', 'mango', 10, 20, 30, 40]\n",
      "['apple', 'banana', 'cherry', 'mango', 10]\n",
      "['mango', 10, 20]\n",
      "['apple', 'cherry', 10, 30]\n",
      "[40]\n",
      "['mango', 10, 20, 30]\n"
     ]
    }
   ],
   "source": [
    "list3 = [\"apple\", \"banana\", \"cherry\",\"mango\",10,20,30,40]\n",
    "print(list3[0:])\n",
    "print(list3[0:5])\n",
    "print(list3[3:6])\n",
    "print(list3[0:7:2])\n",
    "print(list3[-1:])\n",
    "print(list3[-5:-1])"
   ]
  },
  {
   "cell_type": "markdown",
   "id": "e1dab990",
   "metadata": {},
   "source": [
    "# Check if Item Exists"
   ]
  },
  {
   "cell_type": "code",
   "execution_count": 18,
   "id": "7192cc5e",
   "metadata": {},
   "outputs": [
    {
     "name": "stdout",
     "output_type": "stream",
     "text": [
      "yes\n"
     ]
    }
   ],
   "source": [
    "if \"apple\" in list3:\n",
    "    print(\"yes\")"
   ]
  },
  {
   "cell_type": "markdown",
   "id": "ddd41f0e",
   "metadata": {},
   "source": [
    "# Change Item Value"
   ]
  },
  {
   "cell_type": "code",
   "execution_count": 19,
   "id": "9ee3984a",
   "metadata": {},
   "outputs": [
    {
     "name": "stdout",
     "output_type": "stream",
     "text": [
      "['apple', 'banana', 'santosh', 'mango', 10, 20, 30, 40]\n"
     ]
    }
   ],
   "source": [
    "list3[2] = \"santosh\"\n",
    "print(list3)"
   ]
  },
  {
   "cell_type": "markdown",
   "id": "7754fb45",
   "metadata": {},
   "source": [
    "# insert"
   ]
  },
  {
   "cell_type": "code",
   "execution_count": 20,
   "id": "e826be47",
   "metadata": {},
   "outputs": [],
   "source": [
    "list3.insert(2,\"yadav\") #To insert a list item at a specified index, use the insert() method."
   ]
  },
  {
   "cell_type": "code",
   "execution_count": 21,
   "id": "605aaf71",
   "metadata": {},
   "outputs": [
    {
     "name": "stdout",
     "output_type": "stream",
     "text": [
      "['apple', 'banana', 'yadav', 'santosh', 'mango', 10, 20, 30, 40]\n"
     ]
    }
   ],
   "source": [
    "print(list3)"
   ]
  },
  {
   "cell_type": "markdown",
   "id": "38ed0963",
   "metadata": {},
   "source": [
    "# Add List Items"
   ]
  },
  {
   "cell_type": "code",
   "execution_count": 22,
   "id": "6c424fca",
   "metadata": {},
   "outputs": [],
   "source": [
    "list3.append(\"mirror\") #To add an item to the end of the list, use the append() method:"
   ]
  },
  {
   "cell_type": "code",
   "execution_count": 23,
   "id": "83e24f87",
   "metadata": {},
   "outputs": [
    {
     "name": "stdout",
     "output_type": "stream",
     "text": [
      "['apple', 'banana', 'yadav', 'santosh', 'mango', 10, 20, 30, 40, 'mirror']\n"
     ]
    }
   ],
   "source": [
    "print(list3)"
   ]
  },
  {
   "cell_type": "markdown",
   "id": "8ef53815",
   "metadata": {},
   "source": [
    "# extend"
   ]
  },
  {
   "cell_type": "code",
   "execution_count": 24,
   "id": "6a89c755",
   "metadata": {},
   "outputs": [
    {
     "name": "stdout",
     "output_type": "stream",
     "text": [
      "['apple', 'banana', 'yadav', 'santosh', 'mango', 10, 20, 30, 40, 'mirror', 'apple', 'banana', 'cherry', 'apple', 'cherry']\n"
     ]
    }
   ],
   "source": [
    "list3.extend(list1)\n",
    "print(list3)"
   ]
  },
  {
   "cell_type": "markdown",
   "id": "fdd16c83",
   "metadata": {},
   "source": [
    "# Remove Specified Item"
   ]
  },
  {
   "cell_type": "code",
   "execution_count": 26,
   "id": "cccd3d88",
   "metadata": {},
   "outputs": [
    {
     "name": "stdout",
     "output_type": "stream",
     "text": [
      "['apple', 'banana', 'santosh', 'mango', 10, 20, 30, 40, 'mirror', 'apple', 'banana', 'cherry', 'apple', 'cherry']\n"
     ]
    }
   ],
   "source": [
    "list3.remove(\"yadav\")\n",
    "print(list3)\n"
   ]
  },
  {
   "cell_type": "code",
   "execution_count": 27,
   "id": "c91b2caf",
   "metadata": {},
   "outputs": [
    {
     "name": "stdout",
     "output_type": "stream",
     "text": [
      "['apple', 'banana', 'santosh', 'mango', 10, 30, 40, 'mirror', 'apple', 'banana', 'cherry', 'apple', 'cherry']\n"
     ]
    }
   ],
   "source": [
    "list3.pop(5)\n",
    "print(list3)"
   ]
  },
  {
   "cell_type": "markdown",
   "id": "527443e2",
   "metadata": {},
   "source": [
    "# For Loop in list"
   ]
  },
  {
   "cell_type": "code",
   "execution_count": 32,
   "id": "e3e1abad",
   "metadata": {},
   "outputs": [
    {
     "name": "stdout",
     "output_type": "stream",
     "text": [
      "one\n",
      "two\n",
      "three\n",
      "four\n",
      "five\n"
     ]
    }
   ],
   "source": [
    "list4 = [\"one\",\"two\",\"three\",\"four\",\"five\"]\n",
    "for i in list4:\n",
    "    print(list)"
   ]
  },
  {
   "cell_type": "code",
   "execution_count": 30,
   "id": "b5ae8d81",
   "metadata": {},
   "outputs": [
    {
     "name": "stdout",
     "output_type": "stream",
     "text": [
      "apple\n",
      "banana\n",
      "cherry\n"
     ]
    }
   ],
   "source": [
    "thislist = [\"apple\", \"banana\", \"cherry\"]\n",
    "for x in thislist:\n",
    "  print(x)"
   ]
  },
  {
   "cell_type": "markdown",
   "id": "6d89669b",
   "metadata": {},
   "source": [
    "# sets"
   ]
  },
  {
   "cell_type": "code",
   "execution_count": 34,
   "id": "264fbbee",
   "metadata": {},
   "outputs": [
    {
     "name": "stdout",
     "output_type": "stream",
     "text": [
      "True\n"
     ]
    }
   ],
   "source": [
    "sets1 = {\"santosh\",\"yadav\",\"name\"}\n",
    "print(\"santosh\" in sets1)"
   ]
  },
  {
   "cell_type": "markdown",
   "id": "deb274a3",
   "metadata": {},
   "source": [
    "# Python If ... Else"
   ]
  },
  {
   "cell_type": "code",
   "execution_count": 35,
   "id": "da797e2f",
   "metadata": {},
   "outputs": [
    {
     "name": "stdout",
     "output_type": "stream",
     "text": [
      "true\n"
     ]
    }
   ],
   "source": [
    "a = 10\n",
    "b = 20\n",
    "if a < b:\n",
    "    print(\"true\")\n",
    "    "
   ]
  },
  {
   "cell_type": "code",
   "execution_count": 42,
   "id": "33128b2f",
   "metadata": {},
   "outputs": [],
   "source": [
    "a = 10\n",
    "b = 20\n",
    "c = 30\n",
    "if a<b and c<a:\n",
    "    print(\"true\")\n",
    "else:\n",
    "    (\"false\")"
   ]
  },
  {
   "cell_type": "markdown",
   "id": "117fc096",
   "metadata": {},
   "source": [
    "# While Loop"
   ]
  },
  {
   "cell_type": "code",
   "execution_count": 43,
   "id": "904f1c48",
   "metadata": {},
   "outputs": [
    {
     "name": "stdout",
     "output_type": "stream",
     "text": [
      "0\n",
      "1\n",
      "2\n",
      "3\n",
      "4\n",
      "5\n",
      "6\n",
      "7\n",
      "8\n",
      "9\n"
     ]
    }
   ],
   "source": [
    "i = 0 \n",
    "while i < 10:\n",
    "    print(i)\n",
    "    i = i+1\n",
    "    "
   ]
  },
  {
   "cell_type": "code",
   "execution_count": 44,
   "id": "e77919af",
   "metadata": {},
   "outputs": [
    {
     "name": "stdout",
     "output_type": "stream",
     "text": [
      "0\n",
      "1\n",
      "2\n",
      "3\n",
      "4\n",
      "5\n"
     ]
    }
   ],
   "source": [
    "i = 0 \n",
    "while i < 10:\n",
    "    print(i)\n",
    "    if i == 5:\n",
    "        break\n",
    "    i = i+1"
   ]
  },
  {
   "cell_type": "code",
   "execution_count": 47,
   "id": "9216a2e8",
   "metadata": {},
   "outputs": [
    {
     "name": "stdout",
     "output_type": "stream",
     "text": [
      "0\n",
      "1\n",
      "2\n",
      "3\n",
      "4\n",
      "hello\n"
     ]
    }
   ],
   "source": [
    "i = 0\n",
    "while i < 5:\n",
    "    print(i)\n",
    "    i = i+1\n",
    "else:\n",
    "    print(\"hello\")"
   ]
  },
  {
   "cell_type": "code",
   "execution_count": null,
   "id": "5c735a0a",
   "metadata": {},
   "outputs": [],
   "source": []
  }
 ],
 "metadata": {
  "kernelspec": {
   "display_name": "Python 3 (ipykernel)",
   "language": "python",
   "name": "python3"
  },
  "language_info": {
   "codemirror_mode": {
    "name": "ipython",
    "version": 3
   },
   "file_extension": ".py",
   "mimetype": "text/x-python",
   "name": "python",
   "nbconvert_exporter": "python",
   "pygments_lexer": "ipython3",
   "version": "3.10.9"
  }
 },
 "nbformat": 4,
 "nbformat_minor": 5
}
