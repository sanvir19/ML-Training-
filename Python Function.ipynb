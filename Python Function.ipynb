{
 "cells": [
  {
   "cell_type": "code",
   "execution_count": 7,
   "id": "618b0b1a",
   "metadata": {},
   "outputs": [
    {
     "name": "stdout",
     "output_type": "stream",
     "text": [
      "function\n",
      "None\n"
     ]
    }
   ],
   "source": [
    "def myfun():\n",
    "    print(\"function\")\n",
    "print(myfun())"
   ]
  },
  {
   "cell_type": "code",
   "execution_count": 5,
   "id": "7f612543",
   "metadata": {},
   "outputs": [
    {
     "name": "stdout",
     "output_type": "stream",
     "text": [
      "first number is 10 secound number is 20\n"
     ]
    }
   ],
   "source": [
    "def myfun1(a,b):\n",
    "    print(\"first number is\", a ,\"secound number is\",b)\n",
    "myfun1(10,20)"
   ]
  },
  {
   "cell_type": "code",
   "execution_count": 10,
   "id": "769c7194",
   "metadata": {},
   "outputs": [
    {
     "name": "stdout",
     "output_type": "stream",
     "text": [
      "20.0\n"
     ]
    }
   ],
   "source": [
    "def calculate_average(a,b):\n",
    "    avg = (a+b)/2\n",
    "    print(avg)\n",
    "calculate_average(10,30)"
   ]
  },
  {
   "cell_type": "code",
   "execution_count": 7,
   "id": "cbd67c0c",
   "metadata": {},
   "outputs": [
    {
     "name": "stdout",
     "output_type": "stream",
     "text": [
      "125.0\n"
     ]
    }
   ],
   "source": [
    "calculate_average(150,100)"
   ]
  },
  {
   "cell_type": "code",
   "execution_count": 14,
   "id": "82539ec1",
   "metadata": {},
   "outputs": [
    {
     "name": "stdout",
     "output_type": "stream",
     "text": [
      "enter the value of row10\n",
      "*\n",
      "**\n",
      "***\n",
      "****\n",
      "*****\n",
      "******\n",
      "*******\n",
      "********\n",
      "*********\n",
      "**********\n"
     ]
    }
   ],
   "source": [
    "def while_Loop():\n",
    "    n = int(input(\"enter the value of row\"))\n",
    "    i = 1\n",
    "    while i<=n:\n",
    "        j = 1\n",
    "        while j<=i:\n",
    "            print(\"*\",end=\"\")\n",
    "            j = j+1\n",
    "        print()\n",
    "        i = i+1\n",
    "while_loop()\n",
    "    "
   ]
  },
  {
   "cell_type": "markdown",
   "id": "55c9987d",
   "metadata": {},
   "source": [
    "# Return function"
   ]
  },
  {
   "cell_type": "code",
   "execution_count": 1,
   "id": "3ef590da",
   "metadata": {},
   "outputs": [
    {
     "name": "stdout",
     "output_type": "stream",
     "text": [
      "15\n"
     ]
    }
   ],
   "source": [
    "def add(a,b):\n",
    "    c = a +b\n",
    "    return c\n",
    "d = add(5,10)\n",
    "print(d)\n",
    "        "
   ]
  },
  {
   "cell_type": "code",
   "execution_count": 4,
   "id": "42c6750a",
   "metadata": {},
   "outputs": [
    {
     "name": "stdout",
     "output_type": "stream",
     "text": [
      "enter the value of a10\n",
      "enter the value of b20\n",
      "30\n"
     ]
    }
   ],
   "source": [
    "def add1():\n",
    "    a = int(input(\"enter the value of a\"))\n",
    "    b = int(input(\"enter the value of b\"))\n",
    "    c = a+b\n",
    "    return c\n",
    "d = add1()\n",
    "print(d)"
   ]
  },
  {
   "cell_type": "code",
   "execution_count": 5,
   "id": "0eda1f80",
   "metadata": {},
   "outputs": [
    {
     "name": "stdout",
     "output_type": "stream",
     "text": [
      "enter the value of a10\n",
      "enter the value of b20\n",
      "30\n",
      "None\n"
     ]
    }
   ],
   "source": [
    "def add1():\n",
    "    a = int(input(\"enter the value of a\"))\n",
    "    b = int(input(\"enter the value of b\"))\n",
    "    c = a+b\n",
    "    #return c\n",
    "    print(c)\n",
    "d = add1()\n",
    "print(d)"
   ]
  },
  {
   "cell_type": "code",
   "execution_count": null,
   "id": "8ad36ba4",
   "metadata": {},
   "outputs": [],
   "source": []
  }
 ],
 "metadata": {
  "kernelspec": {
   "display_name": "Python 3 (ipykernel)",
   "language": "python",
   "name": "python3"
  },
  "language_info": {
   "codemirror_mode": {
    "name": "ipython",
    "version": 3
   },
   "file_extension": ".py",
   "mimetype": "text/x-python",
   "name": "python",
   "nbconvert_exporter": "python",
   "pygments_lexer": "ipython3",
   "version": "3.10.9"
  }
 },
 "nbformat": 4,
 "nbformat_minor": 5
}
