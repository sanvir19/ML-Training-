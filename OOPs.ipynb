{
 "cells": [
  {
   "cell_type": "markdown",
   "id": "0808700f",
   "metadata": {},
   "source": [
    "# Create a class"
   ]
  },
  {
   "cell_type": "code",
   "execution_count": 53,
   "id": "70ff459b",
   "metadata": {},
   "outputs": [
    {
     "name": "stdout",
     "output_type": "stream",
     "text": [
      "<class '__main__.myclass'>\n"
     ]
    }
   ],
   "source": [
    "class myclass:\n",
    "    x = 5\n",
    "print(myclass)"
   ]
  },
  {
   "cell_type": "markdown",
   "id": "10dd6bd5",
   "metadata": {},
   "source": [
    "# create object"
   ]
  },
  {
   "cell_type": "code",
   "execution_count": 48,
   "id": "fdffead7",
   "metadata": {},
   "outputs": [
    {
     "name": "stdout",
     "output_type": "stream",
     "text": [
      "5\n"
     ]
    }
   ],
   "source": [
    "class myclass:\n",
    "    x=5\n",
    "y = myclass()\n",
    "print(y.x)\n",
    "# y is object"
   ]
  },
  {
   "cell_type": "markdown",
   "id": "147d5673",
   "metadata": {},
   "source": [
    "# calling a function"
   ]
  },
  {
   "cell_type": "code",
   "execution_count": 49,
   "id": "dc028635",
   "metadata": {},
   "outputs": [
    {
     "name": "stdout",
     "output_type": "stream",
     "text": [
      "hello world\n",
      "None\n"
     ]
    }
   ],
   "source": [
    "class myclass:\n",
    "    def myfun(self):\n",
    "        print(\"hello world\")\n",
    "x = myclass()\n",
    "print(x.myfun())"
   ]
  },
  {
   "cell_type": "code",
   "execution_count": 50,
   "id": "c036175b",
   "metadata": {},
   "outputs": [
    {
     "data": {
      "text/plain": [
       "25"
      ]
     },
     "execution_count": 50,
     "metadata": {},
     "output_type": "execute_result"
    }
   ],
   "source": [
    "class myclass:\n",
    "    def __init__(self,name,age):\n",
    "        self.name = name\n",
    "        self.age = age\n",
    "    def myfun(self):\n",
    "        print(\"my name and age is\", self.name , self.age)\n",
    "\n",
    "x1 = myclass(\"santosh\",25)\n",
    "x1.age\n",
    "\n",
    "\n",
    "\n",
    "    \n",
    "        "
   ]
  },
  {
   "cell_type": "code",
   "execution_count": 51,
   "id": "accf7c95",
   "metadata": {},
   "outputs": [
    {
     "name": "stdout",
     "output_type": "stream",
     "text": [
      "15 15\n"
     ]
    },
    {
     "data": {
      "text/plain": [
       "<__main__.newClass at 0x16a988a9ff0>"
      ]
     },
     "execution_count": 51,
     "metadata": {},
     "output_type": "execute_result"
    }
   ],
   "source": [
    "class newClass:\n",
    "    def __init__(self,a,b):\n",
    "        self.x = a\n",
    "        self.y = b\n",
    "        avg = (a+b)//2\n",
    "        avg1 = (self.x+self.y)//2\n",
    "        \n",
    "        print(avg,avg1)\n",
    "        \n",
    "    def dun(self):\n",
    "        print('ggg')\n",
    "newClass(10,20)\n",
    "\n"
   ]
  },
  {
   "cell_type": "code",
   "execution_count": 52,
   "id": "a68efa39",
   "metadata": {},
   "outputs": [
    {
     "ename": "NameError",
     "evalue": "name 'X' is not defined",
     "output_type": "error",
     "traceback": [
      "\u001b[1;31m---------------------------------------------------------------------------\u001b[0m",
      "\u001b[1;31mNameError\u001b[0m                                 Traceback (most recent call last)",
      "Input \u001b[1;32mIn [52]\u001b[0m, in \u001b[0;36m<cell line: 1>\u001b[1;34m()\u001b[0m\n\u001b[1;32m----> 1\u001b[0m Y\u001b[38;5;241m=\u001b[39m \u001b[43mX\u001b[49m(\u001b[38;5;241m40\u001b[39m,\u001b[38;5;241m60\u001b[39m)\n",
      "\u001b[1;31mNameError\u001b[0m: name 'X' is not defined"
     ]
    }
   ],
   "source": [
    "Y= X(40,60)"
   ]
  },
  {
   "cell_type": "code",
   "execution_count": null,
   "id": "7aa7b43c",
   "metadata": {},
   "outputs": [],
   "source": [
    "AVG = X(20,50)\n"
   ]
  },
  {
   "cell_type": "code",
   "execution_count": null,
   "id": "d63c4571",
   "metadata": {},
   "outputs": [],
   "source": [
    " l1=[]\n",
    "x = int(input('enter the value'))\n",
    "for i in range(0,x):\n",
    "    l1.append(input())\n",
    "for i in l1:\n",
    "    print(list(i),end=\"\")\n",
    "    \n",
    "    "
   ]
  },
  {
   "cell_type": "markdown",
   "id": "605726fd",
   "metadata": {},
   "source": [
    "# inheritance"
   ]
  },
  {
   "cell_type": "markdown",
   "id": "f385ea42",
   "metadata": {},
   "source": [
    "# ek class ki property ko dusre class me use karnan ho to \n",
    "# single inheritance"
   ]
  },
  {
   "cell_type": "code",
   "execution_count": 57,
   "id": "4f3378cb",
   "metadata": {},
   "outputs": [
    {
     "name": "stdout",
     "output_type": "stream",
     "text": [
      "parent class\n",
      "child class\n"
     ]
    }
   ],
   "source": [
    "class parentclass:\n",
    "    def fun1(self):\n",
    "        print(\"parent class\")\n",
    "class childclass(parentclass):\n",
    "    def fun2(self):\n",
    "        print(\"child class\")\n",
    "a = childclass()\n",
    "a.fun1()\n",
    "a.fun2()"
   ]
  },
  {
   "cell_type": "markdown",
   "id": "f64e4d88",
   "metadata": {},
   "source": [
    "# multilevel inheritance "
   ]
  },
  {
   "cell_type": "code",
   "execution_count": 58,
   "id": "9d4274fb",
   "metadata": {},
   "outputs": [
    {
     "name": "stdout",
     "output_type": "stream",
     "text": [
      "class A\n",
      "class B\n",
      "class C\n"
     ]
    }
   ],
   "source": [
    "class A:\n",
    "    def Myfun(self):\n",
    "        print(\"class A\")\n",
    "class B(A):\n",
    "    def Myfun1(self):\n",
    "        print(\"class B\")\n",
    "class c(B):\n",
    "    def Myfun2(self):\n",
    "        print(\"class C\")\n",
    "x = c()\n",
    "x.Myfun()\n",
    "x.Myfun1()\n",
    "x.Myfun2()\n",
    "\n"
   ]
  },
  {
   "cell_type": "markdown",
   "id": "417a7ccc",
   "metadata": {},
   "source": [
    "# Multiple Inheritance"
   ]
  },
  {
   "cell_type": "code",
   "execution_count": 59,
   "id": "f4049acc",
   "metadata": {},
   "outputs": [
    {
     "name": "stdout",
     "output_type": "stream",
     "text": [
      "class B1\n",
      "class B2\n",
      "class B3\n"
     ]
    }
   ],
   "source": [
    "class B1:\n",
    "    def Myfun1(self):\n",
    "        print(\"class B1\")\n",
    "class B2:\n",
    "    def Myfun2(self):\n",
    "        print(\"class B2\")\n",
    "        \n",
    "class B3(B1,B2):\n",
    "    def Myfun3(self):\n",
    "        print(\"class B3\")\n",
    "c = B3()\n",
    "c.Myfun1()\n",
    "c.Myfun2()\n",
    "c.Myfun3()"
   ]
  },
  {
   "cell_type": "markdown",
   "id": "9591ee66",
   "metadata": {},
   "source": [
    "# Hierarchical Inheritance"
   ]
  },
  {
   "cell_type": "code",
   "execution_count": 60,
   "id": "45d42a9a",
   "metadata": {},
   "outputs": [
    {
     "name": "stdout",
     "output_type": "stream",
     "text": [
      "class B1\n",
      "class B2\n",
      "class B3\n"
     ]
    }
   ],
   "source": [
    "class C1:\n",
    "    def Myfun1(self):\n",
    "        print(\"class B1\")\n",
    "class C2(C1):\n",
    "    def Myfun2(self):\n",
    "        print(\"class B2\")\n",
    "class C3(C1):\n",
    "    def Myfun3(self):\n",
    "        print(\"class B3\")\n",
    "B = C3()\n",
    "A = C2()\n",
    "A.Myfun1()\n",
    "A.Myfun2()\n",
    "B.Myfun3()\n",
    "\n"
   ]
  },
  {
   "cell_type": "markdown",
   "id": "6d48064d",
   "metadata": {},
   "source": [
    "# Hybrid  Inheritance"
   ]
  },
  {
   "cell_type": "code",
   "execution_count": 61,
   "id": "9b9459d9",
   "metadata": {},
   "outputs": [
    {
     "name": "stdout",
     "output_type": "stream",
     "text": [
      "class B1\n",
      "class B3\n"
     ]
    }
   ],
   "source": [
    "class D1:\n",
    "    def Myfun1(self):\n",
    "        print(\"class B1\")\n",
    "class D2(D1):\n",
    "    def Myfun2(self):\n",
    "        print(\"class B2\")\n",
    "class D3(D1):\n",
    "    def Myfun3(self):\n",
    "        print(\"class B3\")\n",
    "class D4(D2,D3):\n",
    "    def Myfun4(self):\n",
    "        print(\"class B4\")\n",
    "B = D3()\n",
    "B.Myfun1()\n",
    "#B.Myfun2()\n",
    "B.Myfun3()\n",
    "#B.Myfun4()\n",
    "\n",
    "# A = D4()\n",
    "# A.Myfun1()\n",
    "# A.Myfun2()\n",
    "# A.Myfun3()\n",
    "# A.Myfun4()"
   ]
  },
  {
   "cell_type": "markdown",
   "id": "0ba269c5",
   "metadata": {},
   "source": [
    "# Polymorphism"
   ]
  },
  {
   "cell_type": "code",
   "execution_count": 62,
   "id": "908a205f",
   "metadata": {},
   "outputs": [],
   "source": [
    "class MO:\n",
    "    def Myfun25(self,a,b):\n",
    "        print(\"hello0\")\n",
    "    def Myfun25(self):\n",
    "        print(\"Hello1\")\n",
    "    def Myfun25(self,a):\n",
    "        print(\"Hello2\")\n",
    "    def Myfun25(self,a,b):\n",
    "        print(\"Hello3\")\n"
   ]
  },
  {
   "cell_type": "code",
   "execution_count": 63,
   "id": "52a3ee6e",
   "metadata": {},
   "outputs": [
    {
     "name": "stdout",
     "output_type": "stream",
     "text": [
      "hello3\n",
      "hello2\n",
      "hello1\n"
     ]
    }
   ],
   "source": [
    "class m1:\n",
    "    def myfunction(self,a):\n",
    "        print(\"hello1\")\n",
    "class m2(m1):\n",
    "    def myfunction(self,a):\n",
    "        print(\"hello2\")\n",
    "        super().myfunction(10)\n",
    "class m3(m2):\n",
    "    def myfunction(self,a):\n",
    "        print(\"hello3\")\n",
    "        super().myfunction(10)\n",
    "c = m3()\n",
    "c.myfunction(10)"
   ]
  },
  {
   "cell_type": "code",
   "execution_count": 64,
   "id": "ec03a8bd",
   "metadata": {},
   "outputs": [
    {
     "name": "stdout",
     "output_type": "stream",
     "text": [
      "33 district in the Gujarat\n",
      "75 district in Uttar_pradesh\n"
     ]
    }
   ],
   "source": [
    "class gujarat():\n",
    "    def district(self):\n",
    "        print(\"33 district in the Gujarat\")\n",
    "class Uttar_pradesh():\n",
    "    def district(self):\n",
    "        print(\"75 district in Uttar_pradesh\")\n",
    "obj = gujarat()\n",
    "obj1 = Uttar_pradesh()\n",
    "for state in (obj,obj1):\n",
    "    state.district()\n",
    "    "
   ]
  },
  {
   "cell_type": "code",
   "execution_count": 65,
   "id": "53cf5335",
   "metadata": {},
   "outputs": [
    {
     "name": "stdout",
     "output_type": "stream",
     "text": [
      "Defaulting to user installation because normal site-packages is not writeable\n",
      "Requirement already satisfied: multipledispatch in c:\\users\\santo\\appdata\\roaming\\python\\python310\\site-packages (0.6.0)\n",
      "Requirement already satisfied: six in c:\\programdata\\miniconda3\\lib\\site-packages (from multipledispatch) (1.16.0)\n"
     ]
    }
   ],
   "source": [
    "!pip install multipledispatch"
   ]
  },
  {
   "cell_type": "code",
   "execution_count": 66,
   "id": "d6aaacbd",
   "metadata": {},
   "outputs": [],
   "source": [
    "from multipledispatch import dispatch"
   ]
  },
  {
   "cell_type": "code",
   "execution_count": 67,
   "id": "30151931",
   "metadata": {},
   "outputs": [
    {
     "name": "stdout",
     "output_type": "stream",
     "text": [
      "Hello1\n"
     ]
    }
   ],
   "source": [
    "class MO:\n",
    "#     @dispatch(int,int)\n",
    "#     def Myfun25(self,a,b):\n",
    "#         print(\"hello0\")\n",
    "    @dispatch()    \n",
    "    def Myfun25(self):\n",
    "        print(\"Hello1\")\n",
    "    @dispatch(int)\n",
    "    def Myfun25(self,a):\n",
    "        print(\"Hello2\")\n",
    "    @dispatch(int,int)\n",
    "    def Myfun25(self,a,b):\n",
    "        print(\"Hello3\")\n",
    "obj = MO()\n",
    "obj.Myfun25()"
   ]
  },
  {
   "cell_type": "code",
   "execution_count": 68,
   "id": "76abb67d",
   "metadata": {},
   "outputs": [],
   "source": [
    "class india:\n",
    "    def batting(self):\n",
    "        total = 0\n",
    "        rohit = int(input(\"enter the run of rohit\"))\n",
    "        rahul = int(input(\"enter the run of rahul\"))\n",
    "        pujara = int(input(\"enter the run of pujara\"))\n",
    "        kohli = int(input(\"enter the run of rohit\"))\n",
    "        for T in (rohit,rahul,pujara,kohli):\n",
    "            total = total + T\n",
    "        print(total)\n",
    "            \n",
    "            "
   ]
  },
  {
   "cell_type": "code",
   "execution_count": 69,
   "id": "6d2fb2c9",
   "metadata": {},
   "outputs": [
    {
     "name": "stdout",
     "output_type": "stream",
     "text": [
      "enter the run of rohit23\n",
      "enter the run of rahul10\n",
      "enter the run of pujara25\n",
      "enter the run of rohit66\n",
      "124\n",
      "<class '__main__.india'>\n"
     ]
    }
   ],
   "source": [
    "a = india()\n",
    "a.batting()\n",
    "print(type(a))"
   ]
  },
  {
   "cell_type": "markdown",
   "id": "f6ba737d",
   "metadata": {},
   "source": [
    "# Encapsulation\n",
    "# Encapsulation is used to restrict access to methods and variables."
   ]
  },
  {
   "cell_type": "markdown",
   "id": "2809d4fa",
   "metadata": {},
   "source": [
    "# The private Access Modifier\n",
    "#  ex. __encapsulation"
   ]
  },
  {
   "cell_type": "code",
   "execution_count": 70,
   "id": "20aa66e1",
   "metadata": {},
   "outputs": [
    {
     "ename": "AttributeError",
     "evalue": "'A' object has no attribute '__a'",
     "output_type": "error",
     "traceback": [
      "\u001b[1;31m---------------------------------------------------------------------------\u001b[0m",
      "\u001b[1;31mAttributeError\u001b[0m                            Traceback (most recent call last)",
      "Input \u001b[1;32mIn [70]\u001b[0m, in \u001b[0;36m<cell line: 9>\u001b[1;34m()\u001b[0m\n\u001b[0;32m      7\u001b[0m         \u001b[38;5;28mprint\u001b[39m(\u001b[38;5;28mself\u001b[39m\u001b[38;5;241m.\u001b[39m__a)\n\u001b[0;32m      8\u001b[0m o \u001b[38;5;241m=\u001b[39m A()\n\u001b[1;32m----> 9\u001b[0m \u001b[38;5;28mprint\u001b[39m(\u001b[43mo\u001b[49m\u001b[38;5;241;43m.\u001b[39;49m\u001b[43m__a\u001b[49m)\n",
      "\u001b[1;31mAttributeError\u001b[0m: 'A' object has no attribute '__a'"
     ]
    }
   ],
   "source": [
    "class A:\n",
    "    def __init__(self):\n",
    "        self.__a = 20\n",
    "class B(A):\n",
    "    def __init__(self):\n",
    "        A.__init__(self)\n",
    "        print(self.__a)\n",
    "o = A()\n",
    "print(o.__a)\n"
   ]
  },
  {
   "cell_type": "markdown",
   "id": "f442e73c",
   "metadata": {},
   "source": [
    "# The protect  Access Modifier\n",
    "#  ex. __encapsulation"
   ]
  },
  {
   "cell_type": "code",
   "execution_count": 72,
   "id": "f338d376",
   "metadata": {},
   "outputs": [
    {
     "name": "stdout",
     "output_type": "stream",
     "text": [
      "10\n"
     ]
    }
   ],
   "source": [
    "class A:\n",
    "    def __init__(self):\n",
    "        self._a = 10\n",
    "class B(A):\n",
    "    def __init__(self):\n",
    "        A.__init__(self)\n",
    "        print(self._a)\n",
    "o = A()\n",
    "print(o._a)\n"
   ]
  },
  {
   "cell_type": "markdown",
   "id": "f16c2a90",
   "metadata": {},
   "source": [
    "# Abstraction"
   ]
  },
  {
   "cell_type": "code",
   "execution_count": 46,
   "id": "589d2e22",
   "metadata": {},
   "outputs": [
    {
     "name": "stdout",
     "output_type": "stream",
     "text": [
      "interest of hdfc\n",
      "interest of hdfc\n"
     ]
    }
   ],
   "source": [
    "class RBI:\n",
    "    def interest(self):\n",
    "        pass\n",
    "class SBI(RBI):\n",
    "    def interest(self):\n",
    "        print(\"interest of hdfc\")\n",
    "class HDFC(RBI):\n",
    "    def interest(self):\n",
    "        print(\"interest of hdfc\")\n",
    "SBI1 = SBI()\n",
    "HDFC2 = HDFC()\n",
    "SBI1.interest()\n",
    "HDFC2.interest()\n"
   ]
  },
  {
   "cell_type": "code",
   "execution_count": null,
   "id": "14d8348c",
   "metadata": {},
   "outputs": [],
   "source": []
  },
  {
   "cell_type": "code",
   "execution_count": null,
   "id": "c5561029",
   "metadata": {},
   "outputs": [],
   "source": []
  },
  {
   "cell_type": "code",
   "execution_count": null,
   "id": "db16bb69",
   "metadata": {},
   "outputs": [],
   "source": []
  },
  {
   "cell_type": "code",
   "execution_count": null,
   "id": "19cb9ce4",
   "metadata": {},
   "outputs": [],
   "source": []
  }
 ],
 "metadata": {
  "kernelspec": {
   "display_name": "Python 3 (ipykernel)",
   "language": "python",
   "name": "python3"
  },
  "language_info": {
   "codemirror_mode": {
    "name": "ipython",
    "version": 3
   },
   "file_extension": ".py",
   "mimetype": "text/x-python",
   "name": "python",
   "nbconvert_exporter": "python",
   "pygments_lexer": "ipython3",
   "version": "3.10.9"
  }
 },
 "nbformat": 4,
 "nbformat_minor": 5
}
