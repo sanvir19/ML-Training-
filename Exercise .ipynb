{
 "cells": [
  {
   "cell_type": "markdown",
   "id": "774d6301",
   "metadata": {},
   "source": [
    "# I want to create a matrix which looks like below:\n",
    "\n",
    "# matrix = [[0, 1, 2, 3, 4],\n",
    "#           [0, 1, 2, 3, 4],\n",
    "#           [0, 1, 2, 3, 4],\n",
    "#           [0, 1, 2, 3, 4],\n",
    "#           [0, 1, 2, 3, 4]]"
   ]
  },
  {
   "cell_type": "code",
   "execution_count": 2,
   "id": "5abd240b",
   "metadata": {},
   "outputs": [
    {
     "name": "stdout",
     "output_type": "stream",
     "text": [
      "[[0, 1, 2, 3, 4], [0, 1, 2, 3, 4], [0, 1, 2, 3, 4], [0, 1, 2, 3, 4], [0, 1, 2, 3, 4]]\n"
     ]
    }
   ],
   "source": [
    "class nested_list:\n",
    "    def \n",
    "    matrix=[]\n",
    "    for i in range(5):\n",
    "        matrix.append([])\n",
    "        for j in range(5):\n",
    "            matrix[i].append(j)\n",
    "    print(matrix)"
   ]
  },
  {
   "cell_type": "code",
   "execution_count": 17,
   "id": "d19ca7cb",
   "metadata": {},
   "outputs": [
    {
     "ename": "UnboundLocalError",
     "evalue": "local variable 'T' referenced before assignment",
     "output_type": "error",
     "traceback": [
      "\u001b[1;31m---------------------------------------------------------------------------\u001b[0m",
      "\u001b[1;31mUnboundLocalError\u001b[0m                         Traceback (most recent call last)",
      "Input \u001b[1;32mIn [17]\u001b[0m, in \u001b[0;36m<cell line: 4>\u001b[1;34m()\u001b[0m\n\u001b[0;32m      2\u001b[0m target \u001b[38;5;241m=\u001b[39m \u001b[38;5;241m9\u001b[39m\n\u001b[0;32m      3\u001b[0m output \u001b[38;5;241m=\u001b[39m Solution()\n\u001b[1;32m----> 4\u001b[0m \u001b[43moutput\u001b[49m\u001b[38;5;241;43m.\u001b[39;49m\u001b[43mtwoSum\u001b[49m\u001b[43m(\u001b[49m\u001b[43mnums\u001b[49m\u001b[43m,\u001b[49m\u001b[43mtarget\u001b[49m\u001b[43m)\u001b[49m\n\u001b[0;32m      6\u001b[0m \u001b[38;5;28;01mclass\u001b[39;00m \u001b[38;5;21;01mSolution\u001b[39;00m:\n\u001b[0;32m      7\u001b[0m     T \u001b[38;5;241m=\u001b[39m \u001b[38;5;241m0\u001b[39m\n",
      "Input \u001b[1;32mIn [17]\u001b[0m, in \u001b[0;36mSolution.twoSum\u001b[1;34m(self, nums, target)\u001b[0m\n\u001b[0;32m      9\u001b[0m \u001b[38;5;28;01mdef\u001b[39;00m \u001b[38;5;21mtwoSum\u001b[39m(\u001b[38;5;28mself\u001b[39m, nums, target):\n\u001b[0;32m     10\u001b[0m     \u001b[38;5;28;01mfor\u001b[39;00m i \u001b[38;5;129;01min\u001b[39;00m \u001b[38;5;28mrange\u001b[39m(\u001b[38;5;28mlen\u001b[39m(nums)):\n\u001b[1;32m---> 11\u001b[0m         T \u001b[38;5;241m=\u001b[39m \u001b[43mT\u001b[49m \u001b[38;5;241m+\u001b[39m nums[i]\n\u001b[0;32m     12\u001b[0m         \u001b[38;5;28;01mif\u001b[39;00m T \u001b[38;5;241m==\u001b[39m\u001b[38;5;241m30\u001b[39m:\n\u001b[0;32m     13\u001b[0m             l\u001b[38;5;241m.\u001b[39mappend(i)\n",
      "\u001b[1;31mUnboundLocalError\u001b[0m: local variable 'T' referenced before assignment"
     ]
    }
   ],
   "source": [
    "nums = [2,7,11,15]\n",
    "target = 9\n",
    "output = Solution()\n",
    "output.twoSum(nums,target)\n",
    "\n",
    "class Solution:\n",
    "    T = 0\n",
    "    l = []\n",
    "    def twoSum(self, nums, target):\n",
    "        for i in range(len(nums)):\n",
    "            T = T + nums[i]\n",
    "            if T ==30:\n",
    "                l.append(i)\n",
    "        print(l)\n",
    "            \n"
   ]
  },
  {
   "cell_type": "code",
   "execution_count": 18,
   "id": "bce2c5b9",
   "metadata": {},
   "outputs": [
    {
     "name": "stdout",
     "output_type": "stream",
     "text": [
      "3\n"
     ]
    }
   ],
   "source": [
    "nums = [2,7,11,15]\n",
    "target = 9\n",
    "T = 0\n",
    "l = []\n",
    "for i in range(len(nums)):\n",
    "            T = T + nums[i]\n",
    "            if T ==30:\n",
    "                l.append(i))"
   ]
  },
  {
   "cell_type": "code",
   "execution_count": null,
   "id": "acf0195b",
   "metadata": {},
   "outputs": [],
   "source": []
  }
 ],
 "metadata": {
  "kernelspec": {
   "display_name": "Python 3 (ipykernel)",
   "language": "python",
   "name": "python3"
  },
  "language_info": {
   "codemirror_mode": {
    "name": "ipython",
    "version": 3
   },
   "file_extension": ".py",
   "mimetype": "text/x-python",
   "name": "python",
   "nbconvert_exporter": "python",
   "pygments_lexer": "ipython3",
   "version": "3.10.9"
  }
 },
 "nbformat": 4,
 "nbformat_minor": 5
}
